{
 "cells": [
  {
   "cell_type": "markdown",
   "id": "82f8692d",
   "metadata": {},
   "source": [
    "**Nombre:** Isabella María Ucrós Muñoz  \n",
    "**Código:** 2240675\n",
    "## **Clase 8, ejercicio 1**"
   ]
  },
  {
   "cell_type": "code",
   "execution_count": null,
   "id": "f584f55d",
   "metadata": {},
   "outputs": [],
   "source": []
  },
  {
   "cell_type": "code",
   "execution_count": null,
   "metadata": {},
   "outputs": [],
   "source": []
  }
 ],
 "metadata": {
  "language_info": {
   "name": "python"
  }
 },
 "nbformat": 4,
 "nbformat_minor": 5
}
