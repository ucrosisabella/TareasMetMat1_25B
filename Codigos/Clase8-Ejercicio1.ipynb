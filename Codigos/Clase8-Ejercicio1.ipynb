{
 "cells": [
  {
   "cell_type": "markdown",
   "id": "82f8692d",
   "metadata": {},
   "source": [
    "- **Nombre:** Isabella María Ucrós Muñoz  \n",
    "- **Código:** 2240675\n",
    "# **Clase 8, ejercicio 1**"
   ]
  },
  {
   "cell_type": "code",
   "execution_count": 1,
   "id": "f584f55d",
   "metadata": {},
   "outputs": [],
   "source": [
    "# Librerias\n",
    "import sympy\n",
    "from sympy import *"
   ]
  },
  {
   "cell_type": "markdown",
   "id": "c949d634",
   "metadata": {},
   "source": [
    "### **Punto A**"
   ]
  },
  {
   "cell_type": "code",
   "execution_count": 15,
   "id": "e446f656",
   "metadata": {},
   "outputs": [],
   "source": [
    "x, y = symbols('x y')"
   ]
  },
  {
   "cell_type": "code",
   "execution_count": 20,
   "id": "404a1ec0",
   "metadata": {},
   "outputs": [],
   "source": [
    "\n",
    "# BASE PARA EL ESPACIO TENSORIAL\n",
    "\n",
    "# Vamos a definir la base de monomios:\n",
    "M = [1, x, x**2]\n",
    "N = [1, y, y**2]\n",
    "\n",
    "# Como es posible hacer un isomorfismo entre el producto tensorial entre polinomios y el producto usual entre ellos, para encontrar la base del espacio\n",
    "# tensorial basta con a cada \n",
    "\n",
    "basetensor = []\n",
    "\n",
    "k = 0\n",
    "for i in range(3):\n",
    "    for j in range(3):\n",
    "        baseij = Matrix.zeros(9,1)\n",
    "        baseij[k, 0] = M[i] * N[j]\n",
    "        basetensor.append(baseij)\n",
    "        k +=1"
   ]
  },
  {
   "cell_type": "code",
   "execution_count": 21,
   "id": "01754b13",
   "metadata": {},
   "outputs": [
    {
     "data": {
      "image/png": "[encoded data removed]",
      "text/latex": [
       "$\\displaystyle \\left[ \\left[\\begin{matrix}1\\\\0\\\\0\\\\0\\\\0\\\\0\\\\0\\\\0\\\\0\\end{matrix}\\right], \\  \\left[\\begin{matrix}0\\\\y\\\\0\\\\0\\\\0\\\\0\\\\0\\\\0\\\\0\\end{matrix}\\right], \\  \\left[\\begin{matrix}0\\\\0\\\\y^{2}\\\\0\\\\0\\\\0\\\\0\\\\0\\\\0\\end{matrix}\\right], \\  \\left[\\begin{matrix}0\\\\0\\\\0\\\\x\\\\0\\\\0\\\\0\\\\0\\\\0\\end{matrix}\\right], \\  \\left[\\begin{matrix}0\\\\0\\\\0\\\\0\\\\x y\\\\0\\\\0\\\\0\\\\0\\end{matrix}\\right], \\  \\left[\\begin{matrix}0\\\\0\\\\0\\\\0\\\\0\\\\x y^{2}\\\\0\\\\0\\\\0\\end{matrix}\\right], \\  \\left[\\begin{matrix}0\\\\0\\\\0\\\\0\\\\0\\\\0\\\\x^{2}\\\\0\\\\0\\end{matrix}\\right], \\  \\left[\\begin{matrix}0\\\\0\\\\0\\\\0\\\\0\\\\0\\\\0\\\\x^{2} y\\\\0\\end{matrix}\\right], \\  \\left[\\begin{matrix}0\\\\0\\\\0\\\\0\\\\0\\\\0\\\\0\\\\0\\\\x^{2} y^{2}\\end{matrix}\\right]\\right]$"
      ],
      "text/plain": [
       "⎡          ⎡0 ⎤              ⎡ 0  ⎤  ⎡0 ⎤  ⎡ 0  ⎤  ⎡  0  ⎤⎤\n",
       "⎢⎡1⎤  ⎡0⎤  ⎢  ⎥  ⎡0⎤  ⎡ 0 ⎤  ⎢    ⎥  ⎢  ⎥  ⎢    ⎥  ⎢     ⎥⎥\n",
       "⎢⎢ ⎥  ⎢ ⎥  ⎢0 ⎥  ⎢ ⎥  ⎢   ⎥  ⎢ 0  ⎥  ⎢0 ⎥  ⎢ 0  ⎥  ⎢  0  ⎥⎥\n",
       "⎢⎢0⎥  ⎢y⎥  ⎢  ⎥  ⎢0⎥  ⎢ 0 ⎥  ⎢    ⎥  ⎢  ⎥  ⎢    ⎥  ⎢     ⎥⎥\n",
       "⎢⎢ ⎥  ⎢ ⎥  ⎢ 2⎥  ⎢ ⎥  ⎢   ⎥  ⎢ 0  ⎥  ⎢0 ⎥  ⎢ 0  ⎥  ⎢  0  ⎥⎥\n",
       "⎢⎢0⎥  ⎢0⎥  ⎢y ⎥  ⎢0⎥  ⎢ 0 ⎥  ⎢    ⎥  ⎢  ⎥  ⎢    ⎥  ⎢     ⎥⎥\n",
       "⎢⎢ ⎥  ⎢ ⎥  ⎢  ⎥  ⎢ ⎥  ⎢   ⎥  ⎢ 0  ⎥  ⎢0 ⎥  ⎢ 0  ⎥  ⎢  0  ⎥⎥\n",
       "⎢⎢0⎥  ⎢0⎥  ⎢0 ⎥  ⎢x⎥  ⎢ 0 ⎥  ⎢    ⎥  ⎢  ⎥  ⎢    ⎥  ⎢     ⎥⎥\n",
       "⎢⎢ ⎥  ⎢ ⎥  ⎢  ⎥  ⎢ ⎥  ⎢   ⎥  ⎢ 0  ⎥  ⎢0 ⎥  ⎢ 0  ⎥  ⎢  0  ⎥⎥\n",
       "⎢⎢0⎥, ⎢0⎥, ⎢0 ⎥, ⎢0⎥, ⎢x⋅y⎥, ⎢    ⎥, ⎢  ⎥, ⎢    ⎥, ⎢     ⎥⎥\n",
       "⎢⎢ ⎥  ⎢ ⎥  ⎢  ⎥  ⎢ ⎥  ⎢   ⎥  ⎢   2⎥  ⎢0 ⎥  ⎢ 0  ⎥  ⎢  0  ⎥⎥\n",
       "⎢⎢0⎥  ⎢0⎥  ⎢0 ⎥  ⎢0⎥  ⎢ 0 ⎥  ⎢x⋅y ⎥  ⎢  ⎥  ⎢    ⎥  ⎢     ⎥⎥\n",
       "⎢⎢ ⎥  ⎢ ⎥  ⎢  ⎥  ⎢ ⎥  ⎢   ⎥  ⎢    ⎥  ⎢ 2⎥  ⎢ 0  ⎥  ⎢  0  ⎥⎥\n",
       "⎢⎢0⎥  ⎢0⎥  ⎢0 ⎥  ⎢0⎥  ⎢ 0 ⎥  ⎢ 0  ⎥  ⎢x ⎥  ⎢    ⎥  ⎢     ⎥⎥\n",
       "⎢⎢ ⎥  ⎢ ⎥  ⎢  ⎥  ⎢ ⎥  ⎢   ⎥  ⎢    ⎥  ⎢  ⎥  ⎢ 2  ⎥  ⎢  0  ⎥⎥\n",
       "⎢⎢0⎥  ⎢0⎥  ⎢0 ⎥  ⎢0⎥  ⎢ 0 ⎥  ⎢ 0  ⎥  ⎢0 ⎥  ⎢x ⋅y⎥  ⎢     ⎥⎥\n",
       "⎢⎢ ⎥  ⎢ ⎥  ⎢  ⎥  ⎢ ⎥  ⎢   ⎥  ⎢    ⎥  ⎢  ⎥  ⎢    ⎥  ⎢ 2  2⎥⎥\n",
       "⎣⎣0⎦  ⎣0⎦  ⎣0 ⎦  ⎣0⎦  ⎣ 0 ⎦  ⎣ 0  ⎦  ⎣0 ⎦  ⎣ 0  ⎦  ⎣x ⋅y ⎦⎦"
      ]
     },
     "execution_count": 21,
     "metadata": {},
     "output_type": "execute_result"
    }
   ],
   "source": [
    "init_printing()\n",
    "basetensor"
   ]
  },
  {
   "cell_type": "code",
   "execution_count": 22,
   "id": "324a827b",
   "metadata": {},
   "outputs": [
    {
     "data": {
      "image/png": "[encoded data removed]",
      "text/latex": [
       "$\\displaystyle \\left( a_{0} + a_{1} x + a_{2} x^{2}, \\  b_{0} + b_{1} y + b_{2} y^{2}\\right)$"
      ],
      "text/plain": [
       "⎛                2                  2⎞\n",
       "⎝a₀ + a₁⋅x + a₂⋅x , b₀ + b₁⋅y + b₂⋅y ⎠"
      ]
     },
     "execution_count": 22,
     "metadata": {},
     "output_type": "execute_result"
    }
   ],
   "source": [
    "# Ahora bien, suponga que tenemos dos polinomios p2(x) y g2(y) arbitrarios. Calculemos el producto tensorial y luego los componentes sobre esa base\n",
    "a0, a1, a2, b0, b1, b2 = symbols('a0 a1 a2 b0 b1 b2')\n",
    "p2 = a0 + a1 * x + a2 * x**2\n",
    "g2 = b0 + b1 * y + b2 * y**2\n",
    "\n",
    "# COMPONENTES sobre la base de monomios:\n",
    "coefp2 = [ (expand(p2)).coeff(x, i) for i in range(3) ]                 # Primero expandimos el polinomio y luego extraemos los coeficientes\n",
    "coefg2 = [ (expand(g2)).coeff(y, i) for i in range(3) ]\n",
    "\n",
    "descompP2 = [ ( (expand(p2)).coeff(x, i) * x**i ) for i in range(3) ]   # Ponemos en una lista cada uno de los términos junto con su respectiva base\n",
    "descompG2 = [ ( (expand(g2)).coeff(y, i) * y**i ) for i in range(3) ]\n",
    "\n",
    "# De modo que:\n",
    "p2, g2"
   ]
  },
  {
   "cell_type": "code",
   "execution_count": 23,
   "id": "0a60e367",
   "metadata": {},
   "outputs": [
    {
     "data": {
      "image/png": "[encoded data removed]",
      "text/latex": [
       "$\\displaystyle \\left( \\left[ a_{0}, \\  a_{1} x, \\  a_{2} x^{2}\\right], \\  \\left[ b_{0}, \\  b_{1} y, \\  b_{2} y^{2}\\right]\\right)$"
      ],
      "text/plain": [
       "⎛⎡              2⎤  ⎡              2⎤⎞\n",
       "⎝⎣a₀, a₁⋅x, a₂⋅x ⎦, ⎣b₀, b₁⋅y, b₂⋅y ⎦⎠"
      ]
     },
     "execution_count": 23,
     "metadata": {},
     "output_type": "execute_result"
    }
   ],
   "source": [
    "descompP2, descompG2"
   ]
  },
  {
   "cell_type": "code",
   "execution_count": 5,
   "metadata": {},
   "outputs": [
    {
     "data": {
      "text/latex": [
       "$\\displaystyle \\left[\\begin{matrix}a_{0} b_{0} & a_{0} b_{1} y & a_{0} b_{2} y^{2}\\\\a_{1} b_{0} x & a_{1} b_{1} x y & a_{1} b_{2} x y^{2}\\\\a_{2} b_{0} x^{2} & a_{2} b_{1} x^{2} y & a_{2} b_{2} x^{2} y^{2}\\end{matrix}\\right]$"
      ],
      "text/plain": [
       "[[a0*b0, a0*b1*y, a0*b2*y**2], [a1*b0*x, a1*b1*x*y, a1*b2*x*y**2], [a2*b0*x**2, a2*b1*x**2*y, a2*b2*x**2*y**2]]"
      ]
     },
     "execution_count": 5,
     "metadata": {},
     "output_type": "execute_result"
    }
   ],
   "source": [
    "# Entonces, el producto tensorial entre p2 y g2 es:\n",
    "prodtensp2g2 = tensorproduct( descompP2 , descompG2 )\n",
    "prodtensp2g2\n"
   ]
  },
  {
   "cell_type": "code",
   "execution_count": 6,
   "metadata": {},
   "outputs": [],
   "source": [
    "# Como fue esperado, es posible identificar a cada una de las bases calculadas anteriormente en el producto tensorial multiplicadas por las componentes\n",
    "# de los vectores originales. Entonces, para encontrar la matriz de componentes Cij, es solo armar una matriz con el producto de las componentes i y j-ésimas:\n",
    "\n",
    "## Sea coefp y coefg la lista con los coeficientes en las bases sobre las cuales se calculen las bases del producto tensorial:\n",
    "\n",
    "def Cij(coefp, coefg):\n",
    "    n = len(coefp)\n",
    "    m = len(coefg)\n",
    "    Cijex = Matrix.zeros(n, m)\n",
    "    for i in range(n):\n",
    "        for j in range(m):\n",
    "            Cijex[i, j] = coefp[i] * coefg[j]\n",
    "    return Cijex"
   ]
  },
  {
   "cell_type": "code",
   "execution_count": 7,
   "id": "93b08335",
   "metadata": {},
   "outputs": [
    {
     "data": {
      "text/latex": [
       "$\\displaystyle \\left[\\begin{matrix}a_{0} b_{0} & a_{0} b_{1} & a_{0} b_{2}\\\\a_{1} b_{0} & a_{1} b_{1} & a_{1} b_{2}\\\\a_{2} b_{0} & a_{2} b_{1} & a_{2} b_{2}\\end{matrix}\\right]$"
      ],
      "text/plain": [
       "Matrix([\n",
       "[a0*b0, a0*b1, a0*b2],\n",
       "[a1*b0, a1*b1, a1*b2],\n",
       "[a2*b0, a2*b1, a2*b2]])"
      ]
     },
     "execution_count": 7,
     "metadata": {},
     "output_type": "execute_result"
    }
   ],
   "source": [
    "Cij(coefp2, coefg2)"
   ]
  },
  {
   "cell_type": "code",
   "execution_count": 8,
   "id": "4ab5a8ac",
   "metadata": {},
   "outputs": [],
   "source": [
    "# Hagamos el cálculo para una entrada ingresada por el usuario:\n",
    "\n",
    "# Le pediremos al usuario que ingrese sus polinomios, para que luego el programa devuelva las compentes Cij en términos de la base de monomios.\n",
    "p1str = str(input(\"Ingrese su polimonio de grado dos de P2(x)\"))\n",
    "g1str = str(input(\"Ingrese su polimonio de grado dos de G2(y)\"))\n",
    "\n",
    "p1 = sympify(p1str)             # Convertir de texto a una expresión simbólica\n",
    "g1 = sympify(g1str)\n",
    "\n",
    "# Haciendo una lista con los coeficientes en la base de monomios:\n",
    "coefp1 = [ (expand(p1)).coeff(x, i) for i in range(3) ]                 # Primero expandimos el polinomio y luego extraemos los coeficientes\n",
    "coefg1 = [ (expand(g1)).coeff(y, i) for i in range(3) ]"
   ]
  },
  {
   "cell_type": "code",
   "execution_count": 24,
   "id": "55b1c663",
   "metadata": {},
   "outputs": [
    {
     "data": {
      "image/png": "[encoded data removed]",
      "text/latex": [
       "$\\displaystyle \\left( 8 x^{2} + 3 x + 1, \\  8 - y\\right)$"
      ],
      "text/plain": [
       "⎛   2                 ⎞\n",
       "⎝8⋅x  + 3⋅x + 1, 8 - y⎠"
      ]
     },
     "execution_count": 24,
     "metadata": {},
     "output_type": "execute_result"
    }
   ],
   "source": [
    "# Los polinomios son:\n",
    "p1, g1"
   ]
  },
  {
   "cell_type": "code",
   "execution_count": 10,
   "id": "35732f59",
   "metadata": {},
   "outputs": [
    {
     "data": {
      "text/latex": [
       "$\\displaystyle \\left[\\begin{matrix}8 & - y & 0\\\\24 x & - 3 x y & 0\\\\64 x^{2} & - 8 x^{2} y & 0\\end{matrix}\\right]$"
      ],
      "text/plain": [
       "[[8, -y, 0], [24*x, -3*x*y, 0], [64*x**2, -8*x**2*y, 0]]"
      ]
     },
     "execution_count": 10,
     "metadata": {},
     "output_type": "execute_result"
    }
   ],
   "source": [
    "# Su prod tensorial (análogo)\n",
    "descompP1 = [ ( (expand(p1)).coeff(x, i) * x**i ) for i in range(3) ]  \n",
    "descompG1 = [ ( (expand(g1)).coeff(y, i) * y**i ) for i in range(3) ]\n",
    "\n",
    "tensorproduct( descompP1, descompG1 )"
   ]
  },
  {
   "cell_type": "code",
   "execution_count": 11,
   "id": "22e79366",
   "metadata": {},
   "outputs": [
    {
     "data": {
      "text/latex": [
       "$\\displaystyle \\left[\\begin{matrix}8 & -1 & 0\\\\24 & -3 & 0\\\\64 & -8 & 0\\end{matrix}\\right]$"
      ],
      "text/plain": [
       "Matrix([\n",
       "[ 8, -1, 0],\n",
       "[24, -3, 0],\n",
       "[64, -8, 0]])"
      ]
     },
     "execution_count": 11,
     "metadata": {},
     "output_type": "execute_result"
    }
   ],
   "source": [
    "# Y la matriz de coeficientes:\n",
    "\n",
    "Cij( coefp1, coefg1 )"
   ]
  },
  {
   "cell_type": "markdown",
   "id": "120d5ec9",
   "metadata": {},
   "source": [
    "### **Punto B**"
   ]
  },
  {
   "cell_type": "code",
   "execution_count": 12,
   "id": "8e212c5a",
   "metadata": {},
   "outputs": [
    {
     "data": {
      "text/latex": [
       "$\\displaystyle \\left[\\begin{matrix}3\\\\3 y\\\\0\\\\x\\\\x y\\\\0\\\\x^{2}\\\\x^{2} y\\\\0\\end{matrix}\\right]$"
      ],
      "text/plain": [
       "[[3], [3*y], [0], [x], [x*y], [0], [x**2], [x**2*y], [0]]"
      ]
     },
     "execution_count": 12,
     "metadata": {},
     "output_type": "execute_result"
    }
   ],
   "source": [
    "# Caso análogo al ejercicio anterior:\n",
    "\n",
    "pP = x**2 + x + 3\n",
    "pG = y + 1\n",
    "\n",
    "pPdescomp = [ ( (expand(pP)).coeff(x, i) * x**i ) for i in range(3) ]\n",
    "pGdescomp = [ ( (expand(pG)).coeff(y, i) * y**i ) for i in range(3) ]\n",
    "\n",
    "# El producto tensorial (exterior) será:\n",
    "tensorproduct(pPdescomp, pGdescomp).reshape(9, 1)       # Como trabajamos con dos vectores (no covectores), la notación correcta es un arreglo de 9x1"
   ]
  },
  {
   "cell_type": "markdown",
   "id": "3faee5ec",
   "metadata": {},
   "source": [
    "### **Punto C**"
   ]
  },
  {
   "cell_type": "code",
   "execution_count": 39,
   "metadata": {},
   "outputs": [
    {
     "data": {
      "image/png": "[encoded data removed]",
      "text/latex": [
       "$\\displaystyle \\left[ 1, \\  x, \\  \\frac{3 x^{2}}{2} - \\frac{1}{2}\\right]$"
      ],
      "text/plain": [
       "⎡         2    ⎤\n",
       "⎢      3⋅x    1⎥\n",
       "⎢1, x, ──── - ─⎥\n",
       "⎣       2     2⎦"
      ]
     },
     "execution_count": 39,
     "metadata": {},
     "output_type": "execute_result"
    }
   ],
   "source": [
    "p3 = x**2 + x + 3\n",
    "# Ahora, elijamos las bases de Legendre:\n",
    "legendre_base = [legendre( m , x ) for m in range(3) ]\n",
    "legendre_base"
   ]
  },
  {
   "cell_type": "code",
   "execution_count": 41,
   "id": "99acedf7",
   "metadata": {},
   "outputs": [],
   "source": [
    "# Definamos el prodcuto interno dentro del primer eV:\n",
    "def prodint(p1, p2):\n",
    "    pd = integrate( p1 * p2, (x, -1, 1))\n",
    "    return pd"
   ]
  },
  {
   "cell_type": "code",
   "execution_count": 42,
   "id": "9af44f35",
   "metadata": {},
   "outputs": [],
   "source": [
    "# Ahora bien, como es conocido que la base de legendre es ortogonal, para poder encontrar las componentes del p3 sobre dicha base basta con proyectar\n",
    "# sobre las bases encontradas anteriormente:\n",
    "\n",
    "def coefs(h):\n",
    "    coef = [] # Una lista con los coeficientes\n",
    "    for i in range(3): #3 porque son la cantidad de coeficientes sobre los cuales vamos a proyectar:\n",
    "        ci = ( prodint( h , legendre_base[i] ) / prodint( legendre_base[i] , legendre_base [i] ) )\n",
    "        coef.append(ci)\n",
    "    return coef"
   ]
  },
  {
   "cell_type": "code",
   "execution_count": 45,
   "id": "bf507bd0",
   "metadata": {},
   "outputs": [
    {
     "data": {
      "image/png": "[encoded data removed]",
      "text/latex": [
       "$\\displaystyle \\left[ \\frac{10}{3}, \\  1, \\  \\frac{2}{3}\\right]$"
      ],
      "text/plain": [
       "[10/3, 1, 2/3]"
      ]
     },
     "execution_count": 45,
     "metadata": {},
     "output_type": "execute_result"
    }
   ],
   "source": [
    "coefsp3 = coefs(p3)\n",
    "coefsp3"
   ]
  },
  {
   "cell_type": "code",
   "execution_count": null,
   "id": "20a02183",
   "metadata": {},
   "outputs": [
    {
     "data": {
      "image/png": "[encoded data removed]",
      "text/latex": [
       "$\\displaystyle x^{2} + x + 3$"
      ],
      "text/plain": [
       " 2        \n",
       "x  + x + 3"
      ]
     },
     "execution_count": 47,
     "metadata": {},
     "output_type": "execute_result"
    }
   ],
   "source": [
    "# Comprobando que efectivamente estos son los componentes:\n",
    "p3prueba = 0\n",
    "for i in range(3):\n",
    "    k = coefsp3[i] * legendre_base[i]\n",
    "    p3prueba += k\n",
    "p3prueba"
   ]
  },
  {
   "cell_type": "markdown",
   "id": "6e4489e1",
   "metadata": {},
   "source": [
    "### **Punto D**"
   ]
  },
  {
   "cell_type": "code",
   "execution_count": null,
   "id": "ef12e21f",
   "metadata": {},
   "outputs": [],
   "source": [
    "# Para el desarrollo de este punto, es posible "
   ]
  }
 ],
 "metadata": {
  "kernelspec": {
   "display_name": "Python 3",
   "language": "python",
   "name": "python3"
  },
  "language_info": {
   "codemirror_mode": {
    "name": "ipython",
    "version": 3
   },
   "file_extension": ".py",
   "mimetype": "text/x-python",
   "name": "python",
   "nbconvert_exporter": "python",
   "pygments_lexer": "ipython3",
   "version": "3.13.7"
  }
 },
 "nbformat": 4,
 "nbformat_minor": 5
}
