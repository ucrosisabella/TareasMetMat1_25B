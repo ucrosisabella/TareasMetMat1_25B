{
 "cells": [
  {
   "cell_type": "code",
   "execution_count": null,
   "id": "e6346308",
   "metadata": {},
   "outputs": [],
   "source": [
    "import sympy\n",
    "from sympy import *"
   ]
  }
 ],
 "metadata": {
  "language_info": {
   "name": "python"
  }
 },
 "nbformat": 4,
 "nbformat_minor": 5
}
