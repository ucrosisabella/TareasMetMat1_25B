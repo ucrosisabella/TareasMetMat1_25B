{
 "cells": [
  {
   "cell_type": "code",
   "execution_count": 1,
   "id": "e0383eac",
   "metadata": {},
   "outputs": [],
   "source": [
    "import sympy\n",
    "from sympy import *\n"
   ]
  },
  {
   "cell_type": "markdown",
   "id": "ea994bb9",
   "metadata": {},
   "source": [
    "### **Clase 6: Punto 3**"
   ]
  },
  {
   "cell_type": "markdown",
   "id": "252c9608",
   "metadata": {},
   "source": [
    "#### **Punto 3a**"
   ]
  },
  {
   "cell_type": "code",
   "execution_count": 3,
   "id": "aa85d4f9",
   "metadata": {},
   "outputs": [
    {
     "data": {
      "text/latex": [
       "$\\displaystyle \\left[\\begin{matrix}2 & 0 & \\frac{2}{3} & 0 & \\frac{2}{5}\\\\0 & \\frac{2}{3} & 0 & \\frac{2}{5} & 0\\\\\\frac{2}{3} & 0 & \\frac{2}{5} & 0 & \\frac{2}{7}\\\\0 & \\frac{2}{5} & 0 & \\frac{2}{7} & 0\\\\\\frac{2}{5} & 0 & \\frac{2}{7} & 0 & \\frac{2}{9}\\end{matrix}\\right]$"
      ],
      "text/plain": [
       "Matrix([\n",
       "[  2,   0, 2/3,   0, 2/5],\n",
       "[  0, 2/3,   0, 2/5,   0],\n",
       "[2/3,   0, 2/5,   0, 2/7],\n",
       "[  0, 2/5,   0, 2/7,   0],\n",
       "[2/5,   0, 2/7,   0, 2/9]])"
      ]
     },
     "execution_count": 3,
     "metadata": {},
     "output_type": "execute_result"
    }
   ],
   "source": [
    "x = Symbol('x')                 # Definimos a t como nuestra variable con la cual haremos las cuentas\n",
    "[a ,b] = [-1, 1]                # Definimos el intervalo del espacio vectorial\n",
    "\n",
    "n = abs(int(input(\"Ingrese el número de monios a corroborar: \")))\n",
    "mon = []                        # Lista con la base compuesta por los monomios\n",
    "\n",
    "# Llenamos la lista con los monomios solicitados:\n",
    "for i in range(n):\n",
    "    j = Matrix( [x**i] )\n",
    "    mon.append(j)\n",
    "\n",
    "\n",
    "# Definimos el producto interno:\n",
    "def prodint1 (f, g):\n",
    "    return integrate( f[0] * g[0] , (x, a, b) )\n",
    "\n",
    "prodintmon = Matrix.zeros(n,n )\n",
    "\n",
    "# Creamos una matriz de Gram para sintetizar la relación entre las bases propuestas:\n",
    "for i in range(n):\n",
    "    for j in range(n):\n",
    "        prodintmon[ i , j ] = prodint1( mon[i] , mon[j] )\n",
    "prodintmon"
   ]
  },
  {
   "cell_type": "markdown",
   "id": "c991099c",
   "metadata": {},
   "source": [
    "Entonces, note como por el hecho de que las entradas distintas a la diagonal no sean 0, indica que existen bases que no son ortogonales entre sí"
   ]
  },
  {
   "cell_type": "markdown",
   "id": "fdc4e1f2",
   "metadata": {},
   "source": [
    "#### **Punto 3b**"
   ]
  },
  {
   "cell_type": "code",
   "execution_count": null,
   "id": "077fd44d",
   "metadata": {},
   "outputs": [
    {
     "data": {
      "text/latex": [
       "$\\displaystyle \\left\\{\\left[\\begin{matrix}1\\end{matrix}\\right], \\left[\\begin{matrix}x\\end{matrix}\\right], \\left[\\begin{matrix}x^{2} - \\frac{1}{3}\\end{matrix}\\right], \\left[\\begin{matrix}x^{3} - \\frac{3 x}{5}\\end{matrix}\\right], \\left[\\begin{matrix}x^{4} - \\frac{6 x^{2}}{7} + \\frac{3}{35}\\end{matrix}\\right], \\left[\\begin{matrix}x^{5} - \\frac{10 x^{3}}{9} + \\frac{5 x}{21}\\end{matrix}\\right], \\left[\\begin{matrix}x^{6} - \\frac{15 x^{4}}{11} + \\frac{5 x^{2}}{11} - \\frac{5}{231}\\end{matrix}\\right], \\left[\\begin{matrix}x^{7} - \\frac{21 x^{5}}{13} + \\frac{105 x^{3}}{143} - \\frac{35 x}{429}\\end{matrix}\\right], \\left[\\begin{matrix}x^{8} - \\frac{28 x^{6}}{15} + \\frac{14 x^{4}}{13} - \\frac{28 x^{2}}{143} + \\frac{7}{1287}\\end{matrix}\\right], \\left[\\begin{matrix}x^{9} - \\frac{36 x^{7}}{17} + \\frac{126 x^{5}}{85} - \\frac{84 x^{3}}{221} + \\frac{63 x}{2431}\\end{matrix}\\right]\\right\\}$"
      ],
      "text/plain": [
       "{Matrix([[1]]), Matrix([[x]]), Matrix([[x**2 - 1/3]]), Matrix([[x**3 - 3*x/5]]), Matrix([[x**4 - 6*x**2/7 + 3/35]]), Matrix([[x**5 - 10*x**3/9 + 5*x/21]]), Matrix([[x**6 - 15*x**4/11 + 5*x**2/11 - 5/231]]), Matrix([[x**7 - 21*x**5/13 + 105*x**3/143 - 35*x/429]]), Matrix([[x**8 - 28*x**6/15 + 14*x**4/13 - 28*x**2/143 + 7/1287]]), Matrix([[x**9 - 36*x**7/17 + 126*x**5/85 - 84*x**3/221 + 63*x/2431]])}"
      ]
     },
     "execution_count": 4,
     "metadata": {},
     "output_type": "execute_result"
    }
   ],
   "source": [
    "# Ahora bien, orotogonalicemos la base dada por el punto anterior. Pero antes, note que el ejercicio nos solicita los primero 10 monomios. Por lo que:\n",
    "\n",
    "mon10 = []\n",
    "\n",
    "for i in range(10):\n",
    "    j = Matrix( [x**i] )\n",
    "    mon10.append(j)\n",
    "\n",
    "\n",
    "pollegendre = []                    # La lista donde guardaremos a nuestros polinomios ortogonales (note que no son unitarios)\n",
    "\n",
    "for v in mon10:\n",
    "    u = v\n",
    "    for o in pollegendre:\n",
    "        u -= (prodint1 (o, v) / prodint1(o, o)) * o\n",
    "    pollegendre.append(u)\n",
    "\n",
    "FiniteSet(*pollegendre)"
   ]
  },
  {
   "cell_type": "code",
   "execution_count": 4,
   "id": "5477e9e4",
   "metadata": {},
   "outputs": [
    {
     "data": {
      "text/latex": [
       "$\\displaystyle \\left[\\begin{matrix}2 & 0 & 0 & 0 & 0 & 0 & 0 & 0 & 0 & 0\\\\0 & \\frac{2}{3} & 0 & 0 & 0 & 0 & 0 & 0 & 0 & 0\\\\0 & 0 & \\frac{8}{45} & 0 & 0 & 0 & 0 & 0 & 0 & 0\\\\0 & 0 & 0 & \\frac{8}{175} & 0 & 0 & 0 & 0 & 0 & 0\\\\0 & 0 & 0 & 0 & \\frac{128}{11025} & 0 & 0 & 0 & 0 & 0\\\\0 & 0 & 0 & 0 & 0 & \\frac{128}{43659} & 0 & 0 & 0 & 0\\\\0 & 0 & 0 & 0 & 0 & 0 & \\frac{512}{693693} & 0 & 0 & 0\\\\0 & 0 & 0 & 0 & 0 & 0 & 0 & \\frac{512}{2760615} & 0 & 0\\\\0 & 0 & 0 & 0 & 0 & 0 & 0 & 0 & \\frac{32768}{703956825} & 0\\\\0 & 0 & 0 & 0 & 0 & 0 & 0 & 0 & 0 & \\frac{32768}{2807136475}\\end{matrix}\\right]$"
      ],
      "text/plain": [
       "Matrix([\n",
       "[2,   0,    0,     0,         0,         0,          0,           0,               0,                0],\n",
       "[0, 2/3,    0,     0,         0,         0,          0,           0,               0,                0],\n",
       "[0,   0, 8/45,     0,         0,         0,          0,           0,               0,                0],\n",
       "[0,   0,    0, 8/175,         0,         0,          0,           0,               0,                0],\n",
       "[0,   0,    0,     0, 128/11025,         0,          0,           0,               0,                0],\n",
       "[0,   0,    0,     0,         0, 128/43659,          0,           0,               0,                0],\n",
       "[0,   0,    0,     0,         0,         0, 512/693693,           0,               0,                0],\n",
       "[0,   0,    0,     0,         0,         0,          0, 512/2760615,               0,                0],\n",
       "[0,   0,    0,     0,         0,         0,          0,           0, 32768/703956825,                0],\n",
       "[0,   0,    0,     0,         0,         0,          0,           0,               0, 32768/2807136475]])"
      ]
     },
     "execution_count": 4,
     "metadata": {},
     "output_type": "execute_result"
    }
   ],
   "source": [
    "# Matriz de gram para verificarlo:\n",
    "gramlegendre = Matrix.zeros( 10 , 10 )\n",
    "\n",
    "for i in range(10):\n",
    "    for j in range(10):\n",
    "        gramlegendre[ i , j ] = prodint1( pollegendre[i] , pollegendre[j] )\n",
    "\n",
    "gramlegendre"
   ]
  },
  {
   "cell_type": "markdown",
   "id": "9dad8dfa",
   "metadata": {},
   "source": [
    "#### **Punto 3c**"
   ]
  },
  {
   "cell_type": "code",
   "execution_count": null,
   "id": "5b58cd4f",
   "metadata": {},
   "outputs": [],
   "source": [
    "# Para este punto c, modificamos la definición de producto interno, tal que:\n",
    "def prodint2 ( f, g ):\n",
    "    return integrate( f[0] * g[0] * sqrt(1 - x**2) , (x, a, b) )\n",
    "\n",
    "# Para ortogonalizar la base, seguimos el mismo proceso del punto anterior: (tomaremos la misma lista mon10 con los primeros 10 monomios)\n",
    "\n",
    "\n",
    "polchebyshev = []                    # La lista donde guardaremos a nuestros polinomios ortogonales\n",
    "\n",
    "for v in mon10:\n",
    "    u = v\n",
    "    for o in polchebyshev:\n",
    "        u -= (prodint2 (o, v) / prodint2(o, o)) * o\n",
    "    polchebyshev.append(u)\n",
    "\n",
    "FiniteSet(*polchebyshev)"
   ]
  },
  {
   "cell_type": "markdown",
   "id": "1b63f86c",
   "metadata": {},
   "source": [
    "#### **Punto 3d**"
   ]
  },
  {
   "cell_type": "markdown",
   "id": "c5517e33",
   "metadata": {},
   "source": [
    "##### I: Expansión en la base de monomios y en la de Legendre"
   ]
  },
  {
   "cell_type": "code",
   "execution_count": null,
   "id": "3a8d7b0f",
   "metadata": {},
   "outputs": [],
   "source": [
    "h = sin(3*x) * (1 - x**2)\n",
    "\n",
    "# Para este apartado, por convenenecia expanderemos en la base de Legendre usando la propia opción de sympy, dado que ya viene normalizada\n",
    "legendre_poly = [legendre( n , x ) for n in range(10) ]\n",
    "\n"
   ]
  }
 ],
 "metadata": {
  "kernelspec": {
   "display_name": "Python 3",
   "language": "python",
   "name": "python3"
  },
  "language_info": {
   "codemirror_mode": {
    "name": "ipython",
    "version": 3
   },
   "file_extension": ".py",
   "mimetype": "text/x-python",
   "name": "python",
   "nbconvert_exporter": "python",
   "pygments_lexer": "ipython3",
   "version": "3.13.7"
  }
 },
 "nbformat": 4,
 "nbformat_minor": 5
}
