{
 "cells": [
  {
   "cell_type": "code",
   "execution_count": 1,
   "id": "e6346308",
   "metadata": {},
   "outputs": [],
   "source": [
    "import sympy\n",
    "from sympy import *"
   ]
  },
  {
   "cell_type": "markdown",
   "id": "ee6e4168",
   "metadata": {},
   "source": [
    "#### **Punto A**\n",
    "* Parte del punto A requiere verificar que las matrices de Pauli sean linealmente independientes. Por ello, revisaremos aquello computacionalmente."
   ]
  },
  {
   "cell_type": "code",
   "execution_count": 12,
   "id": "5d2005c7",
   "metadata": {},
   "outputs": [
    {
     "data": {
      "text/plain": [
       "{a: 0, b: 0, c: 0, d: 0}"
      ]
     },
     "execution_count": 12,
     "metadata": {},
     "output_type": "execute_result"
    }
   ],
   "source": [
    "# Definamos las matrices de pauli\n",
    "e0 = Matrix([ [1 , 0] , [0 , 1] ])                      # La identidad\n",
    "e1 = Matrix([ [0 , 1] , [1 , 0] ])\n",
    "e2 = Matrix([ [0 , -I] , [I , 0] ])\n",
    "e3 = Matrix([ [1 , 0] , [0 , -1] ])\n",
    "\n",
    "a, b, c, d = symbols('a, b, c, d')                      # Definimos los símbolos para poder resolver nuestro sistema de ecuaciones lineal\n",
    "\n",
    "#   Para plantear el sistema, tenemos que recordar que para que un conjunto de vectores sea li, el sistema a*e1 + b*e2 + c*e3 + d*e4 = 0\n",
    "#   tendrá solución única a=b=c=d=0, o lo que es lo mismo, no podemos reescalar y sumar (combinar) alguún subconjunto de esos vectores\n",
    "#   para obtener el resto\n",
    "\n",
    "sistema = [\n",
    "    Eq(a*e0[0] + b*e1[0] + c*e2[0] + d*e3[0], 0),       # Hacemos una lista con las ecuaciones\n",
    "    Eq(a*e0[1] + b*e1[1] + c*e2[1] + d*e3[1], 0),\n",
    "    Eq(a*e0[2] + b*e1[2] + c*e2[2] + d*e3[2], 0),       # Con Eq planteamos la ecuación, tal que: Eq(un lado de la ecuación, el otro)\n",
    "    Eq(a*e0[3] + b*e1[3] + c*e2[3] + d*e3[3], 0),       # Con el [] seleccionamos ese número de elemento en nuestro vector\n",
    "]\n",
    "\n",
    "sol = solve(sistema , (a, b, c, d))\n",
    "sol"
   ]
  },
  {
   "cell_type": "code",
   "execution_count": null,
   "id": "c74460ab",
   "metadata": {},
   "outputs": [],
   "source": [
    "# Como la solución resultó ser única y a=b=c=d=0, podemos decir que los vectores son linealmente independientes"
   ]
  },
  {
   "cell_type": "markdown",
   "id": "f81d70d9",
   "metadata": {},
   "source": [
    "#### **Punto B**\n",
    "Comprobando la ortogalidad de e0, e1, e2, e2"
   ]
  },
  {
   "cell_type": "code",
   "execution_count": 29,
   "id": "fab98065",
   "metadata": {},
   "outputs": [
    {
     "data": {
      "text/latex": [
       "$\\displaystyle \\left[\\begin{matrix}2 & 0 & 0 & 0\\\\0 & 2 & 0 & 0\\\\0 & 0 & 2 & 0\\\\0 & 0 & 0 & 2\\end{matrix}\\right]$"
      ],
      "text/plain": [
       "Matrix([\n",
       "[2, 0, 0, 0],\n",
       "[0, 2, 0, 0],\n",
       "[0, 0, 2, 0],\n",
       "[0, 0, 0, 2]])"
      ]
     },
     "execution_count": 29,
     "metadata": {},
     "output_type": "execute_result"
    }
   ],
   "source": [
    "# En primer lugar, definimos nuestro producto interno:\n",
    "def producto (A, B):\n",
    "    return ( (( A.conjugate() ).T) * B).trace()                     # Esto es, la traza del producto entre A transpuesta conjugada y B\n",
    "\n",
    "\n",
    "\n",
    "# Ahora para verificar la ortogonalidad, vamos a hacer un bucle en el cual hacemos esta operación para todas las combinaciones de las matrices\n",
    "# de Pauli. \n",
    "\n",
    "matrices = [e0, e1, e2, e3]\n",
    "prodint_bases = Matrix.zeros(4, 4)                                     # Hacemos una matriz nula para poder guardar nuestros prodint_bases\n",
    "\n",
    "\n",
    "for i in range(4):                                                  # Como son 4 matrices, colocamos rango 4 para que la operación se realice con\n",
    "    for j in range(4):                                              # cada una 4 veces. \n",
    "        prodint_bases[i, j] = producto(matrices[i], matrices[j])        #### Asignamos al elemento ij-ésimo el producto entre el elemento i y el el\n",
    "                                                                        #### elemento j.\n",
    "\n",
    "prodint_bases\n",
    "\n",
    "\n",
    "\n",
    "# Note entonces que por cómo construimos la lista con las tres matrices, cuando la entrada resulta en i=j tenemos como resultado el producto interno\n",
    "# entre una matriz por sí misma, es decir su norma al cuadrado, mientras que cuando i≠j tenemos el producto interno entre las bases. Ahora bien,\n",
    "# como las entradas de esa matriz distintas a la diagonal son 0, comprobamos que efectivamente, las matrices de Pauli forman una base ortogonal.\n",
    "\n",
    "# Justamente, esta es la matriz de Gram. \n"
   ]
  }
 ],
 "metadata": {
  "kernelspec": {
   "display_name": "Python 3",
   "language": "python",
   "name": "python3"
  },
  "language_info": {
   "codemirror_mode": {
    "name": "ipython",
    "version": 3
   },
   "file_extension": ".py",
   "mimetype": "text/x-python",
   "name": "python",
   "nbconvert_exporter": "python",
   "pygments_lexer": "ipython3",
   "version": "3.13.7"
  }
 },
 "nbformat": 4,
 "nbformat_minor": 5
}
