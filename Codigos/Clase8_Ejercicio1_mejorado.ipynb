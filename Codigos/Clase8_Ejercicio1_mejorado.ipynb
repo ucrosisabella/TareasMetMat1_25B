{
  "cells": [
    {
      "cell_type": "markdown",
      "id": "82f8692d",
      "metadata": {
        "id": "82f8692d"
      },
      "source": [
        "- **Nombre:** Isabella María Ucrós Muñoz  \n",
        "- **Código:** 2240675\n",
        "# **Clase 8, ejercicio 1**"
      ]
    },
    {
      "cell_type": "code",
      "execution_count": 1,
      "id": "f584f55d",
      "metadata": {
        "id": "f584f55d"
      },
      "outputs": [],
      "source": [
        "# Librerias\n",
        "import sympy\n",
        "from sympy import *"
      ]
    },
    {
      "cell_type": "markdown",
      "id": "c949d634",
      "metadata": {
        "id": "c949d634"
      },
      "source": [
        "### **Punto A**"
      ]
    },
    {
      "cell_type": "code",
      "execution_count": 2,
      "id": "e446f656",
      "metadata": {
        "id": "e446f656"
      },
      "outputs": [],
      "source": [
        "x, y = symbols('x y')"
      ]
    },
    {
      "cell_type": "code",
      "execution_count": 3,
      "id": "404a1ec0",
      "metadata": {
        "id": "404a1ec0"
      },
      "outputs": [],
      "source": [
        "\n",
        "# BASE PARA EL ESPACIO TENSORIAL\n",
        "\n",
        "# Vamos a definir la base de monomios:\n",
        "M = [1, x, x**2]\n",
        "N = [1, y, y**2]\n",
        "\n",
        "# Como es posible hacer un isomorfismo entre el producto tensorial entre polinomios y el producto usual entre ellos, para encontrar la base del espacio\n",
        "# tensorial basta con a cada\n",
        "\n",
        "basetensor = []\n",
        "\n",
        "k = 0\n",
        "for i in range(3):\n",
        "    for j in range(3):\n",
        "        baseij = Matrix.zeros(9,1)\n",
        "        baseij[k, 0] = M[i] * N[j]\n",
        "        basetensor.append(baseij)\n",
        "        k +=1"
      ]
    },
    {
      "cell_type": "code",
      "execution_count": 4,
      "id": "01754b13",
      "metadata": {
        "colab": {
          "base_uri": "https://localhost:8080/",
          "height": 200
        },
        "id": "01754b13",
        "outputId": "10384050-6a85-4453-a562-3addd76e1456"
      },
      "outputs": [
        {
          "output_type": "execute_result",
          "data": {
            "text/plain": [
              "⎡          ⎡0 ⎤              ⎡ 0  ⎤  ⎡0 ⎤  ⎡ 0  ⎤  ⎡  0  ⎤⎤\n",
              "⎢⎡1⎤  ⎡0⎤  ⎢  ⎥  ⎡0⎤  ⎡ 0 ⎤  ⎢    ⎥  ⎢  ⎥  ⎢    ⎥  ⎢     ⎥⎥\n",
              "⎢⎢ ⎥  ⎢ ⎥  ⎢0 ⎥  ⎢ ⎥  ⎢   ⎥  ⎢ 0  ⎥  ⎢0 ⎥  ⎢ 0  ⎥  ⎢  0  ⎥⎥\n",
              "⎢⎢0⎥  ⎢y⎥  ⎢  ⎥  ⎢0⎥  ⎢ 0 ⎥  ⎢    ⎥  ⎢  ⎥  ⎢    ⎥  ⎢     ⎥⎥\n",
              "⎢⎢ ⎥  ⎢ ⎥  ⎢ 2⎥  ⎢ ⎥  ⎢   ⎥  ⎢ 0  ⎥  ⎢0 ⎥  ⎢ 0  ⎥  ⎢  0  ⎥⎥\n",
              "⎢⎢0⎥  ⎢0⎥  ⎢y ⎥  ⎢0⎥  ⎢ 0 ⎥  ⎢    ⎥  ⎢  ⎥  ⎢    ⎥  ⎢     ⎥⎥\n",
              "⎢⎢ ⎥  ⎢ ⎥  ⎢  ⎥  ⎢ ⎥  ⎢   ⎥  ⎢ 0  ⎥  ⎢0 ⎥  ⎢ 0  ⎥  ⎢  0  ⎥⎥\n",
              "⎢⎢0⎥  ⎢0⎥  ⎢0 ⎥  ⎢x⎥  ⎢ 0 ⎥  ⎢    ⎥  ⎢  ⎥  ⎢    ⎥  ⎢     ⎥⎥\n",
              "⎢⎢ ⎥  ⎢ ⎥  ⎢  ⎥  ⎢ ⎥  ⎢   ⎥  ⎢ 0  ⎥  ⎢0 ⎥  ⎢ 0  ⎥  ⎢  0  ⎥⎥\n",
              "⎢⎢0⎥, ⎢0⎥, ⎢0 ⎥, ⎢0⎥, ⎢x⋅y⎥, ⎢    ⎥, ⎢  ⎥, ⎢    ⎥, ⎢     ⎥⎥\n",
              "⎢⎢ ⎥  ⎢ ⎥  ⎢  ⎥  ⎢ ⎥  ⎢   ⎥  ⎢   2⎥  ⎢0 ⎥  ⎢ 0  ⎥  ⎢  0  ⎥⎥\n",
              "⎢⎢0⎥  ⎢0⎥  ⎢0 ⎥  ⎢0⎥  ⎢ 0 ⎥  ⎢x⋅y ⎥  ⎢  ⎥  ⎢    ⎥  ⎢     ⎥⎥\n",
              "⎢⎢ ⎥  ⎢ ⎥  ⎢  ⎥  ⎢ ⎥  ⎢   ⎥  ⎢    ⎥  ⎢ 2⎥  ⎢ 0  ⎥  ⎢  0  ⎥⎥\n",
              "⎢⎢0⎥  ⎢0⎥  ⎢0 ⎥  ⎢0⎥  ⎢ 0 ⎥  ⎢ 0  ⎥  ⎢x ⎥  ⎢    ⎥  ⎢     ⎥⎥\n",
              "⎢⎢ ⎥  ⎢ ⎥  ⎢  ⎥  ⎢ ⎥  ⎢   ⎥  ⎢    ⎥  ⎢  ⎥  ⎢ 2  ⎥  ⎢  0  ⎥⎥\n",
              "⎢⎢0⎥  ⎢0⎥  ⎢0 ⎥  ⎢0⎥  ⎢ 0 ⎥  ⎢ 0  ⎥  ⎢0 ⎥  ⎢x ⋅y⎥  ⎢     ⎥⎥\n",
              "⎢⎢ ⎥  ⎢ ⎥  ⎢  ⎥  ⎢ ⎥  ⎢   ⎥  ⎢    ⎥  ⎢  ⎥  ⎢    ⎥  ⎢ 2  2⎥⎥\n",
              "⎣⎣0⎦  ⎣0⎦  ⎣0 ⎦  ⎣0⎦  ⎣ 0 ⎦  ⎣ 0  ⎦  ⎣0 ⎦  ⎣ 0  ⎦  ⎣x ⋅y ⎦⎦"
            ],
            "text/latex": "$\\displaystyle \\left[ \\left[\\begin{matrix}1\\\\0\\\\0\\\\0\\\\0\\\\0\\\\0\\\\0\\\\0\\end{matrix}\\right], \\  \\left[\\begin{matrix}0\\\\y\\\\0\\\\0\\\\0\\\\0\\\\0\\\\0\\\\0\\end{matrix}\\right], \\  \\left[\\begin{matrix}0\\\\0\\\\y^{2}\\\\0\\\\0\\\\0\\\\0\\\\0\\\\0\\end{matrix}\\right], \\  \\left[\\begin{matrix}0\\\\0\\\\0\\\\x\\\\0\\\\0\\\\0\\\\0\\\\0\\end{matrix}\\right], \\  \\left[\\begin{matrix}0\\\\0\\\\0\\\\0\\\\x y\\\\0\\\\0\\\\0\\\\0\\end{matrix}\\right], \\  \\left[\\begin{matrix}0\\\\0\\\\0\\\\0\\\\0\\\\x y^{2}\\\\0\\\\0\\\\0\\end{matrix}\\right], \\  \\left[\\begin{matrix}0\\\\0\\\\0\\\\0\\\\0\\\\0\\\\x^{2}\\\\0\\\\0\\end{matrix}\\right], \\  \\left[\\begin{matrix}0\\\\0\\\\0\\\\0\\\\0\\\\0\\\\0\\\\x^{2} y\\\\0\\end{matrix}\\right], \\  \\left[\\begin{matrix}0\\\\0\\\\0\\\\0\\\\0\\\\0\\\\0\\\\0\\\\x^{2} y^{2}\\end{matrix}\\right]\\right]$"
          },
          "metadata": {},
          "execution_count": 4
        }
      ],
      "source": [
        "init_printing()\n",
        "basetensor"
      ]
    },
    {
      "cell_type": "code",
      "execution_count": 5,
      "id": "324a827b",
      "metadata": {
        "colab": {
          "base_uri": "https://localhost:8080/",
          "height": 38
        },
        "id": "324a827b",
        "outputId": "aeff7cb9-0de0-42d6-f298-7f88db52193c"
      },
      "outputs": [
        {
          "output_type": "execute_result",
          "data": {
            "text/plain": [
              "⎛                2                  2⎞\n",
              "⎝a₀ + a₁⋅x + a₂⋅x , b₀ + b₁⋅y + b₂⋅y ⎠"
            ],
            "text/latex": "$\\displaystyle \\left( a_{0} + a_{1} x + a_{2} x^{2}, \\  b_{0} + b_{1} y + b_{2} y^{2}\\right)$"
          },
          "metadata": {},
          "execution_count": 5
        }
      ],
      "source": [
        "# Ahora bien, suponga que tenemos dos polinomios p2(x) y g2(y) arbitrarios. Calculemos el producto tensorial y luego los componentes sobre esa base\n",
        "a0, a1, a2, b0, b1, b2 = symbols('a0 a1 a2 b0 b1 b2')\n",
        "p2 = a0 + a1 * x + a2 * x**2\n",
        "g2 = b0 + b1 * y + b2 * y**2\n",
        "\n",
        "# COMPONENTES sobre la base de monomios:\n",
        "coefp2 = [ (expand(p2)).coeff(x, i) for i in range(3) ]                 # Primero expandimos el polinomio y luego extraemos los coeficientes\n",
        "coefg2 = [ (expand(g2)).coeff(y, i) for i in range(3) ]\n",
        "\n",
        "descompP2 = [ ( (expand(p2)).coeff(x, i) * x**i ) for i in range(3) ]   # Ponemos en una lista cada uno de los términos junto con su respectiva base\n",
        "descompG2 = [ ( (expand(g2)).coeff(y, i) * y**i ) for i in range(3) ]\n",
        "\n",
        "# De modo que:\n",
        "p2, g2"
      ]
    },
    {
      "cell_type": "code",
      "execution_count": 6,
      "id": "0a60e367",
      "metadata": {
        "colab": {
          "base_uri": "https://localhost:8080/",
          "height": 38
        },
        "id": "0a60e367",
        "outputId": "9096abbe-3d85-48fb-ed8a-6829c027b9bb"
      },
      "outputs": [
        {
          "output_type": "execute_result",
          "data": {
            "text/plain": [
              "⎛⎡              2⎤  ⎡              2⎤⎞\n",
              "⎝⎣a₀, a₁⋅x, a₂⋅x ⎦, ⎣b₀, b₁⋅y, b₂⋅y ⎦⎠"
            ],
            "text/latex": "$\\displaystyle \\left( \\left[ a_{0}, \\  a_{1} x, \\  a_{2} x^{2}\\right], \\  \\left[ b_{0}, \\  b_{1} y, \\  b_{2} y^{2}\\right]\\right)$"
          },
          "metadata": {},
          "execution_count": 6
        }
      ],
      "source": [
        "descompP2, descompG2"
      ]
    },
    {
      "cell_type": "code",
      "execution_count": 7,
      "metadata": {
        "colab": {
          "base_uri": "https://localhost:8080/",
          "height": 78
        },
        "id": "nNQ0FjQ1Q6rC",
        "outputId": "a361485c-bbea-4663-8541-649851d7a180"
      },
      "outputs": [
        {
          "output_type": "execute_result",
          "data": {
            "text/plain": [
              "⎡                              2  ⎤\n",
              "⎢ a₀⋅b₀     a₀⋅b₁⋅y     a₀⋅b₂⋅y   ⎥\n",
              "⎢                                 ⎥\n",
              "⎢                               2 ⎥\n",
              "⎢a₁⋅b₀⋅x   a₁⋅b₁⋅x⋅y   a₁⋅b₂⋅x⋅y  ⎥\n",
              "⎢                                 ⎥\n",
              "⎢       2         2           2  2⎥\n",
              "⎣a₂⋅b₀⋅x   a₂⋅b₁⋅x ⋅y  a₂⋅b₂⋅x ⋅y ⎦"
            ],
            "text/latex": "$\\displaystyle \\left[\\begin{matrix}a_{0} b_{0} & a_{0} b_{1} y & a_{0} b_{2} y^{2}\\\\a_{1} b_{0} x & a_{1} b_{1} x y & a_{1} b_{2} x y^{2}\\\\a_{2} b_{0} x^{2} & a_{2} b_{1} x^{2} y & a_{2} b_{2} x^{2} y^{2}\\end{matrix}\\right]$"
          },
          "metadata": {},
          "execution_count": 7
        }
      ],
      "source": [
        "# Entonces, el producto tensorial entre p2 y g2 es:\n",
        "prodtensp2g2 = tensorproduct( descompP2 , descompG2 )\n",
        "prodtensp2g2\n"
      ],
      "id": "nNQ0FjQ1Q6rC"
    },
    {
      "cell_type": "code",
      "execution_count": 8,
      "metadata": {
        "id": "B9fqj7LtQ6rC"
      },
      "outputs": [],
      "source": [
        "# Como fue esperado, es posible identificar a cada una de las bases calculadas anteriormente en el producto tensorial multiplicadas por las componentes\n",
        "# de los vectores originales. Entonces, para encontrar la matriz de componentes Cij, es solo armar una matriz con el producto de las componentes i y j-ésimas:\n",
        "\n",
        "## Sea coefp y coefg la lista con los coeficientes en las bases sobre las cuales se calculen las bases del producto tensorial:\n",
        "\n",
        "def Cij(coefp, coefg):\n",
        "    n = len(coefp)\n",
        "    m = len(coefg)\n",
        "    Cijex = Matrix.zeros(n, m)\n",
        "    for i in range(n):\n",
        "        for j in range(m):\n",
        "            Cijex[i, j] = coefp[i] * coefg[j]\n",
        "    return Cijex"
      ],
      "id": "B9fqj7LtQ6rC"
    },
    {
      "cell_type": "code",
      "execution_count": 9,
      "id": "93b08335",
      "metadata": {
        "colab": {
          "base_uri": "https://localhost:8080/",
          "height": 78
        },
        "id": "93b08335",
        "outputId": "03bcbe03-c657-4748-e5ce-c1b9c76e2c19"
      },
      "outputs": [
        {
          "output_type": "execute_result",
          "data": {
            "text/plain": [
              "⎡a₀⋅b₀  a₀⋅b₁  a₀⋅b₂⎤\n",
              "⎢                   ⎥\n",
              "⎢a₁⋅b₀  a₁⋅b₁  a₁⋅b₂⎥\n",
              "⎢                   ⎥\n",
              "⎣a₂⋅b₀  a₂⋅b₁  a₂⋅b₂⎦"
            ],
            "text/latex": "$\\displaystyle \\left[\\begin{matrix}a_{0} b_{0} & a_{0} b_{1} & a_{0} b_{2}\\\\a_{1} b_{0} & a_{1} b_{1} & a_{1} b_{2}\\\\a_{2} b_{0} & a_{2} b_{1} & a_{2} b_{2}\\end{matrix}\\right]$"
          },
          "metadata": {},
          "execution_count": 9
        }
      ],
      "source": [
        "Cij(coefp2, coefg2)"
      ]
    },
    {
      "cell_type": "code",
      "execution_count": 10,
      "id": "4ab5a8ac",
      "metadata": {
        "colab": {
          "base_uri": "https://localhost:8080/"
        },
        "id": "4ab5a8ac",
        "outputId": "ce42291f-a56e-4fcd-ee4c-cdabbfdff5df"
      },
      "outputs": [
        {
          "name": "stdout",
          "output_type": "stream",
          "text": [
            "Ingrese su polimonio de grado dos de P2(x)1 - x + 3*x**2\n",
            "Ingrese su polimonio de grado dos de G2(y)1+y\n"
          ]
        }
      ],
      "source": [
        "# Hagamos el cálculo para una entrada ingresada por el usuario:\n",
        "\n",
        "# Le pediremos al usuario que ingrese sus polinomios, para que luego el programa devuelva las compentes Cij en términos de la base de monomios.\n",
        "p1str = str(input(\"Ingrese su polimonio de grado dos de P2(x)\"))\n",
        "g1str = str(input(\"Ingrese su polimonio de grado dos de G2(y)\"))\n",
        "\n",
        "p1 = sympify(p1str)             # Convertir de texto a una expresión simbólica\n",
        "g1 = sympify(g1str)\n",
        "\n",
        "# Haciendo una lista con los coeficientes en la base de monomios:\n",
        "coefp1 = [ (expand(p1)).coeff(x, i) for i in range(3) ]                 # Primero expandimos el polinomio y luego extraemos los coeficientes\n",
        "coefg1 = [ (expand(g1)).coeff(y, i) for i in range(3) ]"
      ]
    },
    {
      "cell_type": "code",
      "execution_count": 11,
      "id": "55b1c663",
      "metadata": {
        "colab": {
          "base_uri": "https://localhost:8080/",
          "height": 38
        },
        "id": "55b1c663",
        "outputId": "afe2f583-2799-4d39-cecc-addbe051c399"
      },
      "outputs": [
        {
          "output_type": "execute_result",
          "data": {
            "text/plain": [
              "⎛   2               ⎞\n",
              "⎝3⋅x  - x + 1, y + 1⎠"
            ],
            "text/latex": "$\\displaystyle \\left( 3 x^{2} - x + 1, \\  y + 1\\right)$"
          },
          "metadata": {},
          "execution_count": 11
        }
      ],
      "source": [
        "# Los polinomios son:\n",
        "p1, g1"
      ]
    },
    {
      "cell_type": "code",
      "execution_count": 12,
      "id": "35732f59",
      "metadata": {
        "colab": {
          "base_uri": "https://localhost:8080/",
          "height": 78
        },
        "id": "35732f59",
        "outputId": "426d0118-133f-4c11-ef1c-69aa78a93b63"
      },
      "outputs": [
        {
          "output_type": "execute_result",
          "data": {
            "text/plain": [
              "⎡ 1      y     0⎤\n",
              "⎢               ⎥\n",
              "⎢ -x    -x⋅y   0⎥\n",
              "⎢               ⎥\n",
              "⎢   2     2     ⎥\n",
              "⎣3⋅x   3⋅x ⋅y  0⎦"
            ],
            "text/latex": "$\\displaystyle \\left[\\begin{matrix}1 & y & 0\\\\- x & - x y & 0\\\\3 x^{2} & 3 x^{2} y & 0\\end{matrix}\\right]$"
          },
          "metadata": {},
          "execution_count": 12
        }
      ],
      "source": [
        "# Su prod tensorial (análogo)\n",
        "descompP1 = [ ( (expand(p1)).coeff(x, i) * x**i ) for i in range(3) ]\n",
        "descompG1 = [ ( (expand(g1)).coeff(y, i) * y**i ) for i in range(3) ]\n",
        "\n",
        "tensorproduct( descompP1, descompG1 )"
      ]
    },
    {
      "cell_type": "code",
      "execution_count": 13,
      "id": "22e79366",
      "metadata": {
        "colab": {
          "base_uri": "https://localhost:8080/",
          "height": 78
        },
        "id": "22e79366",
        "outputId": "a86eff62-0d6d-4fdb-d99f-a693c91d239c"
      },
      "outputs": [
        {
          "output_type": "execute_result",
          "data": {
            "text/plain": [
              "⎡1   1   0⎤\n",
              "⎢         ⎥\n",
              "⎢-1  -1  0⎥\n",
              "⎢         ⎥\n",
              "⎣3   3   0⎦"
            ],
            "text/latex": "$\\displaystyle \\left[\\begin{matrix}1 & 1 & 0\\\\-1 & -1 & 0\\\\3 & 3 & 0\\end{matrix}\\right]$"
          },
          "metadata": {},
          "execution_count": 13
        }
      ],
      "source": [
        "# Y la matriz de coeficientes:\n",
        "\n",
        "Cij( coefp1, coefg1 )"
      ]
    },
    {
      "cell_type": "markdown",
      "id": "120d5ec9",
      "metadata": {
        "id": "120d5ec9"
      },
      "source": [
        "### **Punto B**"
      ]
    },
    {
      "cell_type": "code",
      "execution_count": 14,
      "id": "8e212c5a",
      "metadata": {
        "colab": {
          "base_uri": "https://localhost:8080/",
          "height": 200
        },
        "id": "8e212c5a",
        "outputId": "b34c44b3-b275-4d3a-cc54-7836979bfb68"
      },
      "outputs": [
        {
          "output_type": "execute_result",
          "data": {
            "text/plain": [
              "⎡ 3  ⎤\n",
              "⎢    ⎥\n",
              "⎢3⋅y ⎥\n",
              "⎢    ⎥\n",
              "⎢ 0  ⎥\n",
              "⎢    ⎥\n",
              "⎢ x  ⎥\n",
              "⎢    ⎥\n",
              "⎢x⋅y ⎥\n",
              "⎢    ⎥\n",
              "⎢ 0  ⎥\n",
              "⎢    ⎥\n",
              "⎢  2 ⎥\n",
              "⎢ x  ⎥\n",
              "⎢    ⎥\n",
              "⎢ 2  ⎥\n",
              "⎢x ⋅y⎥\n",
              "⎢    ⎥\n",
              "⎣ 0  ⎦"
            ],
            "text/latex": "$\\displaystyle \\left[\\begin{matrix}3\\\\3 y\\\\0\\\\x\\\\x y\\\\0\\\\x^{2}\\\\x^{2} y\\\\0\\end{matrix}\\right]$"
          },
          "metadata": {},
          "execution_count": 14
        }
      ],
      "source": [
        "# Caso análogo al ejercicio anterior:\n",
        "\n",
        "pP = x**2 + x + 3\n",
        "pG = y + 1\n",
        "\n",
        "pPdescomp = [ ( (expand(pP)).coeff(x, i) * x**i ) for i in range(3) ]\n",
        "pGdescomp = [ ( (expand(pG)).coeff(y, i) * y**i ) for i in range(3) ]\n",
        "\n",
        "# El producto tensorial (exterior) será:\n",
        "tensorproduct(pPdescomp, pGdescomp).reshape(9, 1)       # Como trabajamos con dos vectores (no covectores), la notación correcta es un arreglo de 9x1"
      ]
    },
    {
      "cell_type": "markdown",
      "id": "3faee5ec",
      "metadata": {
        "id": "3faee5ec"
      },
      "source": [
        "### **Punto C**"
      ]
    },
    {
      "cell_type": "code",
      "execution_count": 15,
      "metadata": {
        "colab": {
          "base_uri": "https://localhost:8080/",
          "height": 58
        },
        "id": "bDWPGEwQQ6rF",
        "outputId": "5c3c3c09-01f8-426d-fd0f-100e8bc9d2c0"
      },
      "outputs": [
        {
          "output_type": "execute_result",
          "data": {
            "text/plain": [
              "⎡         2    ⎤\n",
              "⎢      3⋅x    1⎥\n",
              "⎢1, x, ──── - ─⎥\n",
              "⎣       2     2⎦"
            ],
            "text/latex": "$\\displaystyle \\left[ 1, \\  x, \\  \\frac{3 x^{2}}{2} - \\frac{1}{2}\\right]$"
          },
          "metadata": {},
          "execution_count": 15
        }
      ],
      "source": [
        "p3 = x**2 + x + 3\n",
        "# Ahora, elijamos las bases de Legendre:\n",
        "legendre_basex = [legendre( m , x ) for m in range(3) ]\n",
        "legendre_basex"
      ],
      "id": "bDWPGEwQQ6rF"
    },
    {
      "cell_type": "code",
      "execution_count": 16,
      "id": "99acedf7",
      "metadata": {
        "id": "99acedf7"
      },
      "outputs": [],
      "source": [
        "# Definamos el prodcuto interno dentro del primer eV:\n",
        "def prodintP(p1, p2):\n",
        "    pd = integrate( p1 * p2, (x, -1, 1))\n",
        "    return pd"
      ]
    },
    {
      "cell_type": "code",
      "execution_count": 17,
      "id": "9af44f35",
      "metadata": {
        "id": "9af44f35"
      },
      "outputs": [],
      "source": [
        "# Ahora bien, como es conocido que la base de legendre es ortogonal, para poder encontrar las componentes del p3 sobre dicha base basta con proyectar\n",
        "# sobre las bases encontradas anteriormente:\n",
        "\n",
        "def coefsP(h):                                                           # <-- Función de python que, dado un pol genérico, regresa sus coeficientes\n",
        "    coef = []                                                           # bajo la base de Legendre\n",
        "    for i in range(3): #3 porque son la cantidad de coeficientes sobre los cuales vamos a proyectar:\n",
        "        ci = ( prodintP( h , legendre_basex[i] ) / prodintP( legendre_basex[i] , legendre_basex [i] ) )\n",
        "        coef.append(ci)\n",
        "    return coef"
      ]
    },
    {
      "cell_type": "code",
      "execution_count": 18,
      "id": "bf507bd0",
      "metadata": {
        "colab": {
          "base_uri": "https://localhost:8080/",
          "height": 58
        },
        "id": "bf507bd0",
        "outputId": "05cb2b14-c064-41fd-9691-d98ff2b11ffb"
      },
      "outputs": [
        {
          "output_type": "execute_result",
          "data": {
            "text/plain": [
              "[10/3, 1, 2/3]"
            ],
            "text/latex": "$\\displaystyle \\left[ \\frac{10}{3}, \\  1, \\  \\frac{2}{3}\\right]$"
          },
          "metadata": {},
          "execution_count": 18
        }
      ],
      "source": [
        "coefsp3 = coefsP(p3)\n",
        "coefsp3"
      ]
    },
    {
      "cell_type": "code",
      "execution_count": 19,
      "id": "20a02183",
      "metadata": {
        "colab": {
          "base_uri": "https://localhost:8080/",
          "height": 38
        },
        "id": "20a02183",
        "outputId": "b894a096-8201-46ed-c320-2b09d3c6dddc"
      },
      "outputs": [
        {
          "output_type": "execute_result",
          "data": {
            "text/plain": [
              " 2        \n",
              "x  + x + 3"
            ],
            "text/latex": "$\\displaystyle x^{2} + x + 3$"
          },
          "metadata": {},
          "execution_count": 19
        }
      ],
      "source": [
        "# Comprobando que efectivamente estos son los componentes:\n",
        "p3prueba = 0\n",
        "for i in range(3):\n",
        "    k = coefsp3[i] * legendre_basex[i]\n",
        "    p3prueba += k\n",
        "p3prueba"
      ]
    },
    {
      "cell_type": "markdown",
      "id": "6e4489e1",
      "metadata": {
        "id": "6e4489e1"
      },
      "source": [
        "### **Punto D**"
      ]
    },
    {
      "cell_type": "code",
      "execution_count": 20,
      "id": "ef12e21f",
      "metadata": {
        "colab": {
          "base_uri": "https://localhost:8080/",
          "height": 58
        },
        "id": "ef12e21f",
        "outputId": "77468e08-5fe5-4d9d-aeb6-bdf0ce2127d0"
      },
      "outputs": [
        {
          "output_type": "execute_result",
          "data": {
            "text/plain": [
              "⎡     a₂      2⋅a₂⎤\n",
              "⎢a₀ + ──, a₁, ────⎥\n",
              "⎣     3        3  ⎦"
            ],
            "text/latex": "$\\displaystyle \\left[ a_{0} + \\frac{a_{2}}{3}, \\  a_{1}, \\  \\frac{2 a_{2}}{3}\\right]$"
          },
          "metadata": {},
          "execution_count": 20
        }
      ],
      "source": [
        "# Para el desarrollo de este punto es posible partir de la función de python que habíamos armado, Cij, en donde para obtener la matriz de componentes\n",
        "# solo necesitabamos saber cómo expresar dicha polinomio en términos de la base usada. Así, sean los polinomios iniciales, encontremos sus componentes\n",
        "# en la base de polinomios de Legendre:\n",
        "\n",
        "\n",
        "# PARA P EN COMPONENTES:\n",
        "\n",
        "p2 = a0 + a1 * x + a2 * x**2\n",
        "\n",
        "coefp2_legr = coefsP(p2)\n",
        "coefp2_legr"
      ]
    },
    {
      "cell_type": "code",
      "execution_count": 21,
      "id": "2b0ad292",
      "metadata": {
        "id": "2b0ad292"
      },
      "outputs": [],
      "source": [
        "# Planteemos el prod interno y la proyección sobre los pol de legendre pero sobre y:\n",
        "legendre_basey = [legendre( m , y ) for m in range(3) ]\n",
        "\n",
        "def prodintG(g1, g2):\n",
        "    pd = integrate( g1 * g2, (y, -1, 1))\n",
        "    return pd\n",
        "\n",
        "def coefsG(h):\n",
        "    coef = []\n",
        "    for i in range(3):\n",
        "        ci = ( prodintG( h , legendre_basey[i] ) / prodintG( legendre_basey[i] , legendre_basey[i] ) )\n",
        "        coef.append(ci)\n",
        "    return coef"
      ]
    },
    {
      "cell_type": "code",
      "execution_count": 22,
      "id": "1ac82b3b",
      "metadata": {
        "colab": {
          "base_uri": "https://localhost:8080/",
          "height": 58
        },
        "id": "1ac82b3b",
        "outputId": "2187fbcc-fbc9-408f-9de9-ace1df05ed4a"
      },
      "outputs": [
        {
          "output_type": "execute_result",
          "data": {
            "text/plain": [
              "⎡     b₂      2⋅b₂⎤\n",
              "⎢b₀ + ──, b₁, ────⎥\n",
              "⎣     3        3  ⎦"
            ],
            "text/latex": "$\\displaystyle \\left[ b_{0} + \\frac{b_{2}}{3}, \\  b_{1}, \\  \\frac{2 b_{2}}{3}\\right]$"
          },
          "metadata": {},
          "execution_count": 22
        }
      ],
      "source": [
        "g2 = b0 + b1 *y + b2 * y**2\n",
        "\n",
        "coefg2_legr = coefsG(g2)\n",
        "coefg2_legr"
      ]
    },
    {
      "cell_type": "code",
      "execution_count": 23,
      "id": "bf869d80",
      "metadata": {
        "colab": {
          "base_uri": "https://localhost:8080/",
          "height": 95
        },
        "id": "bf869d80",
        "outputId": "a3c293e1-eeb4-48fe-f16c-666c5e0f5dcd"
      },
      "outputs": [
        {
          "output_type": "execute_result",
          "data": {
            "text/plain": [
              "⎡                                        ⎛     a₂⎞⎤\n",
              "⎢                                   2⋅b₂⋅⎜a₀ + ──⎟⎥\n",
              "⎢⎛     a₂⎞ ⎛     b₂⎞     ⎛     a₂⎞       ⎝     3 ⎠⎥\n",
              "⎢⎜a₀ + ──⎟⋅⎜b₀ + ──⎟  b₁⋅⎜a₀ + ──⎟  ──────────────⎥\n",
              "⎢⎝     3 ⎠ ⎝     3 ⎠     ⎝     3 ⎠        3       ⎥\n",
              "⎢                                                 ⎥\n",
              "⎢      ⎛     b₂⎞                       2⋅a₁⋅b₂    ⎥\n",
              "⎢   a₁⋅⎜b₀ + ──⎟         a₁⋅b₁         ───────    ⎥\n",
              "⎢      ⎝     3 ⎠                          3       ⎥\n",
              "⎢                                                 ⎥\n",
              "⎢       ⎛     b₂⎞                                 ⎥\n",
              "⎢  2⋅a₂⋅⎜b₀ + ──⎟                                 ⎥\n",
              "⎢       ⎝     3 ⎠       2⋅a₂⋅b₁        4⋅a₂⋅b₂    ⎥\n",
              "⎢  ──────────────       ───────        ───────    ⎥\n",
              "⎣        3                 3              9       ⎦"
            ],
            "text/latex": "$\\displaystyle \\left[\\begin{matrix}\\left(a_{0} + \\frac{a_{2}}{3}\\right) \\left(b_{0} + \\frac{b_{2}}{3}\\right) & b_{1} \\left(a_{0} + \\frac{a_{2}}{3}\\right) & \\frac{2 b_{2} \\left(a_{0} + \\frac{a_{2}}{3}\\right)}{3}\\\\a_{1} \\left(b_{0} + \\frac{b_{2}}{3}\\right) & a_{1} b_{1} & \\frac{2 a_{1} b_{2}}{3}\\\\\\frac{2 a_{2} \\left(b_{0} + \\frac{b_{2}}{3}\\right)}{3} & \\frac{2 a_{2} b_{1}}{3} & \\frac{4 a_{2} b_{2}}{9}\\end{matrix}\\right]$"
          },
          "metadata": {},
          "execution_count": 23
        }
      ],
      "source": [
        "# ¡★! Ahora, ya con los coeficientes ortogonales (sobre la base de Legendre), nos basta con aplicar Cij (multiplicar componente a compononte)\n",
        "\n",
        "Cij_legr = Cij(coefp2_legr, coefg2_legr)\n",
        "Cij_legr"
      ]
    },
    {
      "cell_type": "code",
      "execution_count": 24,
      "id": "c6a1dba4",
      "metadata": {
        "id": "c6a1dba4"
      },
      "outputs": [],
      "source": [
        "# Calculemos las bases de este producto tensorial:\n",
        "basetensor_legr = []\n",
        "\n",
        "k = 0\n",
        "for i in range(3):\n",
        "    for j in range(3):\n",
        "        baseij = Matrix.zeros(9,1)\n",
        "        baseij[k, 0] = legendre_basey[i] * legendre_basey[j]\n",
        "        basetensor_legr.append(baseij)\n",
        "        k +=1"
      ]
    },
    {
      "cell_type": "code",
      "execution_count": 25,
      "id": "1cf2aed7",
      "metadata": {
        "colab": {
          "base_uri": "https://localhost:8080/",
          "height": 214
        },
        "id": "1cf2aed7",
        "outputId": "6e56301d-b80b-4708-fcb2-34edb39d86f9"
      },
      "outputs": [
        {
          "output_type": "execute_result",
          "data": {
            "text/plain": [
              "⎡          ⎡   0    ⎤             ⎡     0      ⎤  ⎡   0    ⎤  ⎡     0      ⎤   ↪\n",
              "⎢          ⎢        ⎥       ⎡0 ⎤  ⎢            ⎥  ⎢        ⎥  ⎢            ⎥   ↪\n",
              "⎢⎡1⎤  ⎡0⎤  ⎢   0    ⎥  ⎡0⎤  ⎢  ⎥  ⎢     0      ⎥  ⎢   0    ⎥  ⎢     0      ⎥   ↪\n",
              "⎢⎢ ⎥  ⎢ ⎥  ⎢        ⎥  ⎢ ⎥  ⎢0 ⎥  ⎢            ⎥  ⎢        ⎥  ⎢            ⎥   ↪\n",
              "⎢⎢0⎥  ⎢y⎥  ⎢   2    ⎥  ⎢0⎥  ⎢  ⎥  ⎢     0      ⎥  ⎢   0    ⎥  ⎢     0      ⎥   ↪\n",
              "⎢⎢ ⎥  ⎢ ⎥  ⎢3⋅y    1⎥  ⎢ ⎥  ⎢0 ⎥  ⎢            ⎥  ⎢        ⎥  ⎢            ⎥   ↪\n",
              "⎢⎢0⎥  ⎢0⎥  ⎢──── - ─⎥  ⎢0⎥  ⎢  ⎥  ⎢     0      ⎥  ⎢   0    ⎥  ⎢     0      ⎥   ↪\n",
              "⎢⎢ ⎥  ⎢ ⎥  ⎢ 2     2⎥  ⎢ ⎥  ⎢0 ⎥  ⎢            ⎥  ⎢        ⎥  ⎢            ⎥   ↪\n",
              "⎢⎢0⎥  ⎢0⎥  ⎢        ⎥  ⎢y⎥  ⎢  ⎥  ⎢     0      ⎥  ⎢   0    ⎥  ⎢     0      ⎥   ↪\n",
              "⎢⎢ ⎥  ⎢ ⎥  ⎢   0    ⎥  ⎢ ⎥  ⎢ 2⎥  ⎢            ⎥  ⎢        ⎥  ⎢            ⎥   ↪\n",
              "⎢⎢0⎥, ⎢0⎥, ⎢        ⎥, ⎢0⎥, ⎢y ⎥, ⎢  ⎛   2    ⎞⎥, ⎢   0    ⎥, ⎢     0      ⎥,  ↪\n",
              "⎢⎢ ⎥  ⎢ ⎥  ⎢   0    ⎥  ⎢ ⎥  ⎢  ⎥  ⎢  ⎜3⋅y    1⎟⎥  ⎢        ⎥  ⎢            ⎥   ↪\n",
              "⎢⎢0⎥  ⎢0⎥  ⎢        ⎥  ⎢0⎥  ⎢0 ⎥  ⎢y⋅⎜──── - ─⎟⎥  ⎢   2    ⎥  ⎢     0      ⎥   ↪\n",
              "⎢⎢ ⎥  ⎢ ⎥  ⎢   0    ⎥  ⎢ ⎥  ⎢  ⎥  ⎢  ⎝ 2     2⎠⎥  ⎢3⋅y    1⎥  ⎢            ⎥   ↪\n",
              "⎢⎢0⎥  ⎢0⎥  ⎢        ⎥  ⎢0⎥  ⎢0 ⎥  ⎢            ⎥  ⎢──── - ─⎥  ⎢  ⎛   2    ⎞⎥   ↪\n",
              "⎢⎢ ⎥  ⎢ ⎥  ⎢   0    ⎥  ⎢ ⎥  ⎢  ⎥  ⎢     0      ⎥  ⎢ 2     2⎥  ⎢  ⎜3⋅y    1⎟⎥   ↪\n",
              "⎢⎢0⎥  ⎢0⎥  ⎢        ⎥  ⎢0⎥  ⎢0 ⎥  ⎢            ⎥  ⎢        ⎥  ⎢y⋅⎜──── - ─⎟⎥   ↪\n",
              "⎢⎢ ⎥  ⎢ ⎥  ⎢   0    ⎥  ⎢ ⎥  ⎢  ⎥  ⎢     0      ⎥  ⎢   0    ⎥  ⎢  ⎝ 2     2⎠⎥   ↪\n",
              "⎢⎣0⎦  ⎣0⎦  ⎢        ⎥  ⎣0⎦  ⎣0 ⎦  ⎢            ⎥  ⎢        ⎥  ⎢            ⎥   ↪\n",
              "⎢          ⎣   0    ⎦             ⎣     0      ⎦  ⎣   0    ⎦  ⎣     0      ⎦   ↪\n",
              "⎣                                                                              ↪\n",
              "\n",
              "↪ ⎡     0     ⎤⎤\n",
              "↪ ⎢           ⎥⎥\n",
              "↪ ⎢     0     ⎥⎥\n",
              "↪ ⎢           ⎥⎥\n",
              "↪ ⎢     0     ⎥⎥\n",
              "↪ ⎢           ⎥⎥\n",
              "↪ ⎢     0     ⎥⎥\n",
              "↪ ⎢           ⎥⎥\n",
              "↪ ⎢     0     ⎥⎥\n",
              "↪ ⎢           ⎥⎥\n",
              "↪ ⎢     0     ⎥⎥\n",
              "↪ ⎢           ⎥⎥\n",
              "↪ ⎢     0     ⎥⎥\n",
              "↪ ⎢           ⎥⎥\n",
              "↪ ⎢     0     ⎥⎥\n",
              "↪ ⎢           ⎥⎥\n",
              "↪ ⎢          2⎥⎥\n",
              "↪ ⎢⎛   2    ⎞ ⎥⎥\n",
              "↪ ⎢⎜3⋅y    1⎟ ⎥⎥\n",
              "↪ ⎢⎜──── - ─⎟ ⎥⎥\n",
              "↪ ⎣⎝ 2     2⎠ ⎦⎦"
            ],
            "text/latex": "$\\displaystyle \\left[ \\left[\\begin{matrix}1\\\\0\\\\0\\\\0\\\\0\\\\0\\\\0\\\\0\\\\0\\end{matrix}\\right], \\  \\left[\\begin{matrix}0\\\\y\\\\0\\\\0\\\\0\\\\0\\\\0\\\\0\\\\0\\end{matrix}\\right], \\  \\left[\\begin{matrix}0\\\\0\\\\\\frac{3 y^{2}}{2} - \\frac{1}{2}\\\\0\\\\0\\\\0\\\\0\\\\0\\\\0\\end{matrix}\\right], \\  \\left[\\begin{matrix}0\\\\0\\\\0\\\\y\\\\0\\\\0\\\\0\\\\0\\\\0\\end{matrix}\\right], \\  \\left[\\begin{matrix}0\\\\0\\\\0\\\\0\\\\y^{2}\\\\0\\\\0\\\\0\\\\0\\end{matrix}\\right], \\  \\left[\\begin{matrix}0\\\\0\\\\0\\\\0\\\\0\\\\y \\left(\\frac{3 y^{2}}{2} - \\frac{1}{2}\\right)\\\\0\\\\0\\\\0\\end{matrix}\\right], \\  \\left[\\begin{matrix}0\\\\0\\\\0\\\\0\\\\0\\\\0\\\\\\frac{3 y^{2}}{2} - \\frac{1}{2}\\\\0\\\\0\\end{matrix}\\right], \\  \\left[\\begin{matrix}0\\\\0\\\\0\\\\0\\\\0\\\\0\\\\0\\\\y \\left(\\frac{3 y^{2}}{2} - \\frac{1}{2}\\right)\\\\0\\end{matrix}\\right], \\  \\left[\\begin{matrix}0\\\\0\\\\0\\\\0\\\\0\\\\0\\\\0\\\\0\\\\\\left(\\frac{3 y^{2}}{2} - \\frac{1}{2}\\right)^{2}\\end{matrix}\\right]\\right]$"
          },
          "metadata": {},
          "execution_count": 25
        }
      ],
      "source": [
        "basetensor_legr"
      ]
    },
    {
      "cell_type": "code",
      "execution_count": 26,
      "id": "24e4e1b4",
      "metadata": {
        "colab": {
          "base_uri": "https://localhost:8080/",
          "height": 289
        },
        "id": "24e4e1b4",
        "outputId": "3a80ac3f-ba6a-4350-a42b-053edd5d2395"
      },
      "outputs": [
        {
          "output_type": "execute_result",
          "data": {
            "text/plain": [
              "⎡     ⎛     a₂⎞ ⎛     b₂⎞     ⎤\n",
              "⎢     ⎜a₀ + ──⎟⋅⎜b₀ + ──⎟     ⎥\n",
              "⎢     ⎝     3 ⎠ ⎝     3 ⎠     ⎥\n",
              "⎢                             ⎥\n",
              "⎢            ⎛     a₂⎞        ⎥\n",
              "⎢       b₁⋅y⋅⎜a₀ + ──⎟        ⎥\n",
              "⎢            ⎝     3 ⎠        ⎥\n",
              "⎢                             ⎥\n",
              "⎢                 ⎛   2    ⎞  ⎥\n",
              "⎢       ⎛     a₂⎞ ⎜3⋅y    1⎟  ⎥\n",
              "⎢  2⋅b₂⋅⎜a₀ + ──⎟⋅⎜──── - ─⎟  ⎥\n",
              "⎢       ⎝     3 ⎠ ⎝ 2     2⎠  ⎥\n",
              "⎢  ─────────────────────────  ⎥\n",
              "⎢              3              ⎥\n",
              "⎢                             ⎥\n",
              "⎢            ⎛     b₂⎞        ⎥\n",
              "⎢       a₁⋅x⋅⎜b₀ + ──⎟        ⎥\n",
              "⎢            ⎝     3 ⎠        ⎥\n",
              "⎢                             ⎥\n",
              "⎢          a₁⋅b₁⋅x⋅y          ⎥\n",
              "⎢                             ⎥\n",
              "⎢              ⎛   2    ⎞     ⎥\n",
              "⎢              ⎜3⋅y    1⎟     ⎥\n",
              "⎢    2⋅a₁⋅b₂⋅x⋅⎜──── - ─⎟     ⎥\n",
              "⎢              ⎝ 2     2⎠     ⎥\n",
              "⎢    ────────────────────     ⎥\n",
              "⎢             3               ⎥\n",
              "⎢                             ⎥\n",
              "⎢                 ⎛   2    ⎞  ⎥\n",
              "⎢       ⎛     b₂⎞ ⎜3⋅x    1⎟  ⎥\n",
              "⎢  2⋅a₂⋅⎜b₀ + ──⎟⋅⎜──── - ─⎟  ⎥\n",
              "⎢       ⎝     3 ⎠ ⎝ 2     2⎠  ⎥\n",
              "⎢  ─────────────────────────  ⎥\n",
              "⎢              3              ⎥\n",
              "⎢                             ⎥\n",
              "⎢              ⎛   2    ⎞     ⎥\n",
              "⎢              ⎜3⋅x    1⎟     ⎥\n",
              "⎢    2⋅a₂⋅b₁⋅y⋅⎜──── - ─⎟     ⎥\n",
              "⎢              ⎝ 2     2⎠     ⎥\n",
              "⎢    ────────────────────     ⎥\n",
              "⎢             3               ⎥\n",
              "⎢                             ⎥\n",
              "⎢        ⎛   2    ⎞ ⎛   2    ⎞⎥\n",
              "⎢        ⎜3⋅x    1⎟ ⎜3⋅y    1⎟⎥\n",
              "⎢4⋅a₂⋅b₂⋅⎜──── - ─⎟⋅⎜──── - ─⎟⎥\n",
              "⎢        ⎝ 2     2⎠ ⎝ 2     2⎠⎥\n",
              "⎢─────────────────────────────⎥\n",
              "⎣              9              ⎦"
            ],
            "text/latex": "$\\displaystyle \\left[\\begin{matrix}\\left(a_{0} + \\frac{a_{2}}{3}\\right) \\left(b_{0} + \\frac{b_{2}}{3}\\right)\\\\b_{1} y \\left(a_{0} + \\frac{a_{2}}{3}\\right)\\\\\\frac{2 b_{2} \\left(a_{0} + \\frac{a_{2}}{3}\\right) \\left(\\frac{3 y^{2}}{2} - \\frac{1}{2}\\right)}{3}\\\\a_{1} x \\left(b_{0} + \\frac{b_{2}}{3}\\right)\\\\a_{1} b_{1} x y\\\\\\frac{2 a_{1} b_{2} x \\left(\\frac{3 y^{2}}{2} - \\frac{1}{2}\\right)}{3}\\\\\\frac{2 a_{2} \\left(b_{0} + \\frac{b_{2}}{3}\\right) \\left(\\frac{3 x^{2}}{2} - \\frac{1}{2}\\right)}{3}\\\\\\frac{2 a_{2} b_{1} y \\left(\\frac{3 x^{2}}{2} - \\frac{1}{2}\\right)}{3}\\\\\\frac{4 a_{2} b_{2} \\left(\\frac{3 x^{2}}{2} - \\frac{1}{2}\\right) \\left(\\frac{3 y^{2}}{2} - \\frac{1}{2}\\right)}{9}\\end{matrix}\\right]$"
          },
          "metadata": {},
          "execution_count": 26
        }
      ],
      "source": [
        "# Para corroborar lo anterior, es posible hacer el prod tensorial entre los vectores:\n",
        "\n",
        "p2descomLegr = [ coefp2_legr[i] * legendre_basex[i] for i in range(3) ]\n",
        "g2descomLegr = [ coefg2_legr[i] * legendre_basey[i] for i in range(3) ]\n",
        "\n",
        "tensorproduct(p2descomLegr, g2descomLegr).reshape(9,1)"
      ]
    },
    {
      "cell_type": "code",
      "source": [
        "# Ahora, para los polimonios dados:\n",
        "p4 = x**2 + x +3\n",
        "coefp4_legr = coefsP(p4)\n",
        "\n",
        "\n",
        "g4 = y + 1\n",
        "coefg4_legr = coefsG(g4)\n"
      ],
      "metadata": {
        "id": "uVmtasqBRJwp"
      },
      "id": "uVmtasqBRJwp",
      "execution_count": 27,
      "outputs": []
    },
    {
      "cell_type": "code",
      "source": [
        "# y la matriz :\n",
        "Cijp4g4 = Cij(coefp4_legr, coefg4_legr)\n",
        "Cijp4g4"
      ],
      "metadata": {
        "colab": {
          "base_uri": "https://localhost:8080/",
          "height": 78
        },
        "id": "GX3hNBJzSP_j",
        "outputId": "077d8fe1-9c11-4ab6-bb33-376272f35136"
      },
      "id": "GX3hNBJzSP_j",
      "execution_count": 29,
      "outputs": [
        {
          "output_type": "execute_result",
          "data": {
            "text/plain": [
              "⎡10/3  10/3  0⎤\n",
              "⎢             ⎥\n",
              "⎢ 1     1    0⎥\n",
              "⎢             ⎥\n",
              "⎣2/3   2/3   0⎦"
            ],
            "text/latex": "$\\displaystyle \\left[\\begin{matrix}\\frac{10}{3} & \\frac{10}{3} & 0\\\\1 & 1 & 0\\\\\\frac{2}{3} & \\frac{2}{3} & 0\\end{matrix}\\right]$"
          },
          "metadata": {},
          "execution_count": 29
        }
      ]
    },
    {
      "cell_type": "code",
      "source": [
        "# Y para unos cualquiera ingresados por el usuario:\n",
        "coefsp1_legr = coefsP(p1)\n",
        "coefsg1_legr = coefsG(g1)\n",
        "\n",
        "Cijmatrix = Cij(coefsp1_legr, coefsg1_legr)\n",
        "Cijmatrix"
      ],
      "metadata": {
        "colab": {
          "base_uri": "https://localhost:8080/",
          "height": 78
        },
        "id": "Ib9xiyqQSeAy",
        "outputId": "bf0d76ae-15c3-47f1-c8ec-c4aa537bed5c"
      },
      "id": "Ib9xiyqQSeAy",
      "execution_count": 31,
      "outputs": [
        {
          "output_type": "execute_result",
          "data": {
            "text/plain": [
              "⎡2   2   0⎤\n",
              "⎢         ⎥\n",
              "⎢-1  -1  0⎥\n",
              "⎢         ⎥\n",
              "⎣2   2   0⎦"
            ],
            "text/latex": "$\\displaystyle \\left[\\begin{matrix}2 & 2 & 0\\\\-1 & -1 & 0\\\\2 & 2 & 0\\end{matrix}\\right]$"
          },
          "metadata": {},
          "execution_count": 31
        }
      ]
    }
  ],
  "metadata": {
    "kernelspec": {
      "display_name": "Python 3",
      "language": "python",
      "name": "python3"
    },
    "language_info": {
      "codemirror_mode": {
        "name": "ipython",
        "version": 3
      },
      "file_extension": ".py",
      "mimetype": "text/x-python",
      "name": "python",
      "nbconvert_exporter": "python",
      "pygments_lexer": "ipython3",
      "version": "3.13.7"
    },
    "colab": {
      "provenance": []
    }
  },
  "nbformat": 4,
  "nbformat_minor": 5
}