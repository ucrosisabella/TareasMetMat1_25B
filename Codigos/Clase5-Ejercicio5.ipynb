{
 "cells": [
  {
   "cell_type": "code",
   "execution_count": 1,
   "id": "e6346308",
   "metadata": {},
   "outputs": [],
   "source": [
    "import sympy\n",
    "from sympy import *"
   ]
  },
  {
   "cell_type": "markdown",
   "id": "ee6e4168",
   "metadata": {},
   "source": [
    "#### **Punto A**\n",
    "* Parte del punto A requiere verificar que las matrices de Pauli sean linealmente independientes. Por ello, revisaremos aquello computacionalmente."
   ]
  },
  {
   "cell_type": "code",
   "execution_count": null,
   "id": "5d2005c7",
   "metadata": {},
   "outputs": [],
   "source": [
    "# Definamos las matrices de pauli\n"
   ]
  }
 ],
 "metadata": {
  "kernelspec": {
   "display_name": "Python 3",
   "language": "python",
   "name": "python3"
  },
  "language_info": {
   "codemirror_mode": {
    "name": "ipython",
    "version": 3
   },
   "file_extension": ".py",
   "mimetype": "text/x-python",
   "name": "python",
   "nbconvert_exporter": "python",
   "pygments_lexer": "ipython3",
   "version": "3.13.7"
  }
 },
 "nbformat": 4,
 "nbformat_minor": 5
}
