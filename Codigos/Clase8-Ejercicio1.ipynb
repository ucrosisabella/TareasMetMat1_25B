{
 "cells": [
  {
   "cell_type": "markdown",
   "id": "82f8692d",
   "metadata": {},
   "source": [
    "- **Nombre:** Isabella María Ucrós Muñoz  \n",
    "- **Código:** 2240675\n",
    "# **Clase 8, ejercicio 1**"
   ]
  },
  {
   "cell_type": "code",
   "execution_count": 1,
   "id": "f584f55d",
   "metadata": {},
   "outputs": [],
   "source": [
    "# Librerias\n",
    "import sympy\n",
    "from sympy import *"
   ]
  },
  {
   "cell_type": "markdown",
   "id": "c949d634",
   "metadata": {},
   "source": [
    "### **Punto A**"
   ]
  },
  {
   "cell_type": "code",
   "execution_count": 16,
   "id": "807726d9",
   "metadata": {},
   "outputs": [],
   "source": [
    "x, y = symbols('x y')\n",
    "\n",
    "# Le pediremos al usuario que ingrese sus polinomios, para que luego el programa devuelva las compentes Cij en términos de la base de monomios.\n",
    "p1str = str(input(\"Ingrese su polimonio de grado dos de P2(x)\"))\n",
    "g1str = str(input(\"Ingrese su polimonio de grado dos de G2(y)\"))\n",
    "\n",
    "p1 = sympify(p1str)             # Convertir de texto a una expresión simbólica\n",
    "g1 = sympify(g1str)\n",
    "\n",
    "# Haciendo una lista con los coeficientes en la base de monomios:\n",
    "coefp1 = [ (expand(p1)).coeff(x, i) for i in range(3) ]                 # Primero expandimos el polinomio y luego extraemos los coeficientes\n",
    "coefg1 = [ (expand(g1)).coeff(x, i) for i in range(3) ]"
   ]
  },
  {
   "cell_type": "code",
   "execution_count": null,
   "id": "404a1ec0",
   "metadata": {},
   "outputs": [
    {
     "data": {
      "text/plain": [
       "[Matrix([\n",
       " [   1],\n",
       " [   y],\n",
       " [y**2],\n",
       " [   0],\n",
       " [   0],\n",
       " [   0],\n",
       " [   0],\n",
       " [   0],\n",
       " [   0]]),\n",
       " Matrix([\n",
       " [   1],\n",
       " [   y],\n",
       " [y**2],\n",
       " [   0],\n",
       " [   0],\n",
       " [   0],\n",
       " [   0],\n",
       " [   0],\n",
       " [   0]]),\n",
       " Matrix([\n",
       " [   1],\n",
       " [   y],\n",
       " [y**2],\n",
       " [   0],\n",
       " [   0],\n",
       " [   0],\n",
       " [   0],\n",
       " [   0],\n",
       " [   0]]),\n",
       " Matrix([\n",
       " [     x],\n",
       " [   x*y],\n",
       " [x*y**2],\n",
       " [     0],\n",
       " [     0],\n",
       " [     0],\n",
       " [     0],\n",
       " [     0],\n",
       " [     0]]),\n",
       " Matrix([\n",
       " [     x],\n",
       " [   x*y],\n",
       " [x*y**2],\n",
       " [     0],\n",
       " [     0],\n",
       " [     0],\n",
       " [     0],\n",
       " [     0],\n",
       " [     0]]),\n",
       " Matrix([\n",
       " [     x],\n",
       " [   x*y],\n",
       " [x*y**2],\n",
       " [     0],\n",
       " [     0],\n",
       " [     0],\n",
       " [     0],\n",
       " [     0],\n",
       " [     0]]),\n",
       " Matrix([\n",
       " [     x**2],\n",
       " [   x**2*y],\n",
       " [x**2*y**2],\n",
       " [        0],\n",
       " [        0],\n",
       " [        0],\n",
       " [        0],\n",
       " [        0],\n",
       " [        0]]),\n",
       " Matrix([\n",
       " [     x**2],\n",
       " [   x**2*y],\n",
       " [x**2*y**2],\n",
       " [        0],\n",
       " [        0],\n",
       " [        0],\n",
       " [        0],\n",
       " [        0],\n",
       " [        0]]),\n",
       " Matrix([\n",
       " [     x**2],\n",
       " [   x**2*y],\n",
       " [x**2*y**2],\n",
       " [        0],\n",
       " [        0],\n",
       " [        0],\n",
       " [        0],\n",
       " [        0],\n",
       " [        0]])]"
      ]
     },
     "execution_count": 26,
     "metadata": {},
     "output_type": "execute_result"
    }
   ],
   "source": [
    "# Ahora, vamos a definir la base de monomios:\n",
    "M = [1, x, x**2]\n",
    "N = [1, y, y**2]\n",
    "\n",
    "# Como es posible hacer un isomorfismo entre el producto tensorial entre polinomios y el producto usual entre ellos, para encontrar la base del espacio\n",
    "# tensorial basta con a cada \n",
    "\n",
    "basetensor = []\n",
    "\n",
    "for i in range(3):\n",
    "    k = 0\n",
    "    baseij = Matrix.zeros(9,1)\n",
    "    for j in range(3):\n",
    "        baseij[k, 0] = M[i] * N[j]\n",
    "        basetensor.append(baseij)\n",
    "        k += 1"
   ]
  }
 ],
 "metadata": {
  "kernelspec": {
   "display_name": "Python 3",
   "language": "python",
   "name": "python3"
  },
  "language_info": {
   "codemirror_mode": {
    "name": "ipython",
    "version": 3
   },
   "file_extension": ".py",
   "mimetype": "text/x-python",
   "name": "python",
   "nbconvert_exporter": "python",
   "pygments_lexer": "ipython3",
   "version": "3.13.7"
  }
 },
 "nbformat": 4,
 "nbformat_minor": 5
}
