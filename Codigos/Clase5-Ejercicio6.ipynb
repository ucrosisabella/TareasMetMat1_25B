{
 "cells": [
  {
   "cell_type": "code",
   "execution_count": 1,
   "id": "6c559f30",
   "metadata": {},
   "outputs": [],
   "source": [
    "import sympy\n",
    "from sympy import *"
   ]
  },
  {
   "cell_type": "markdown",
   "id": "55700cb8",
   "metadata": {},
   "source": [
    "### **Ejecicio 6**\n",
    "Ortogonalización de una base para Pn"
   ]
  },
  {
   "cell_type": "code",
   "execution_count": null,
   "id": "ef59b4aa",
   "metadata": {},
   "outputs": [
    {
     "data": {
      "image/png": "[encoded data removed]",
      "text/latex": [
       "$\\displaystyle \\left\\{\\left[\\begin{matrix}1\\end{matrix}\\right], \\left[\\begin{matrix}t\\end{matrix}\\right], \\left[\\begin{matrix}t^{2} - \\frac{1}{4}\\end{matrix}\\right]\\right\\}$"
      ],
      "text/plain": [
       "⎧          ⎡ 2   1⎤⎫\n",
       "⎨[1], [t], ⎢t  - ─⎥⎬\n",
       "⎩          ⎣     4⎦⎭"
      ]
     },
     "execution_count": 12,
     "metadata": {},
     "output_type": "execute_result"
    }
   ],
   "source": [
    "t = Symbol('t')                         # Definimos a t como una variable para poder hacer la integración. Nuestra variable indepediente. \n",
    "a, b = 1, -1\n",
    "\n",
    "n = abs(int(input(\"Introduzca la cantidad de monomios base de Pn que desearía ortogonalizar: \"))) # Pedimos al operador que ingrese la cantidad de monomios\n",
    "\n",
    "baseobl = []                                #Hacemos una lista en donde se guardarán todos los monomios a ortoganlizar\n",
    "\n",
    "for i in range(0, n):                       # Hacemos un bucle para que en ese rango se añadan los n monomios a la lista\n",
    "    j = Matrix( [t**(i)] )\n",
    "    baseobl.append(j)\n",
    "\n",
    "# Definiremos el producto interno:\n",
    "def prodint (f, g):\n",
    "    return integrate( f[0] * g[0] * sqrt(1 - t**2) , (t, a, b) )\n",
    "\n",
    "baseort = []\n",
    "\n",
    "# GRAM-SCHMIDT\n",
    "for v in baseobl: \n",
    "    u = v \n",
    "    for o in baseort: \n",
    "        u-= (prodint(v, o) / prodint(o, o)) * o \n",
    "    baseort.append(u)\n",
    "\n",
    "# Ahora, mostremos el resultado de forma bonita:\n",
    "FiniteSet(*baseort)"
   ]
  },
  {
   "cell_type": "code",
   "execution_count": 17,
   "id": "d8383cdd",
   "metadata": {},
   "outputs": [
    {
     "data": {
      "image/png": "[encoded data removed]",
      "text/latex": [
       "$\\displaystyle \\left[\\begin{matrix}- \\frac{\\pi}{2} & 0 & 0\\\\0 & - \\frac{\\pi}{8} & 0\\\\0 & 0 & - \\frac{\\pi}{32}\\end{matrix}\\right]$"
      ],
      "text/plain": [
       "⎡-π           ⎤\n",
       "⎢───   0    0 ⎥\n",
       "⎢ 2           ⎥\n",
       "⎢             ⎥\n",
       "⎢     -π      ⎥\n",
       "⎢ 0   ───   0 ⎥\n",
       "⎢      8      ⎥\n",
       "⎢             ⎥\n",
       "⎢          -π ⎥\n",
       "⎢ 0    0   ───⎥\n",
       "⎣          32 ⎦"
      ]
     },
     "execution_count": 17,
     "metadata": {},
     "output_type": "execute_result"
    }
   ],
   "source": [
    "# Ahora, armemos una matriz de gram para comprobar que es son una base ortogonal:\n",
    "\n",
    "prodint_bases = Matrix.zeros(n, n)\n",
    "\n",
    "for i in range(n):\n",
    "    for j in range(n):\n",
    "        prodint_bases[i, j] = prodint(baseort[i], baseort[j])\n",
    "prodint_bases"
   ]
  }
 ],
 "metadata": {
  "kernelspec": {
   "display_name": "Python 3",
   "language": "python",
   "name": "python3"
  },
  "language_info": {
   "codemirror_mode": {
    "name": "ipython",
    "version": 3
   },
   "file_extension": ".py",
   "mimetype": "text/x-python",
   "name": "python",
   "nbconvert_exporter": "python",
   "pygments_lexer": "ipython3",
   "version": "3.13.7"
  }
 },
 "nbformat": 4,
 "nbformat_minor": 5
}
